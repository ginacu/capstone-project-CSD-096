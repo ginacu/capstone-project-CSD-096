{
  "nbformat": 4,
  "nbformat_minor": 0,
  "metadata": {
    "colab": {
      "name": "Capstone_Project.ipynb",
      "provenance": [],
      "collapsed_sections": [],
      "authorship_tag": "ABX9TyN1dVKOhJAVlR9CqCeBQlqa",
      "include_colab_link": true
    },
    "kernelspec": {
      "name": "python3",
      "display_name": "Python 3"
    },
    "language_info": {
      "name": "python"
    }
  },
  "cells": [
    {
      "cell_type": "markdown",
      "metadata": {
        "id": "view-in-github",
        "colab_type": "text"
      },
      "source": [
        "<a href=\"https://colab.research.google.com/github/ginacu/capstone-project-CSD-096/blob/main/Capstone_Project.ipynb\" target=\"_parent\"><img src=\"https://colab.research.google.com/assets/colab-badge.svg\" alt=\"Open In Colab\"/></a>"
      ]
    },
    {
      "cell_type": "markdown",
      "metadata": {
        "id": "YAoLkfdGdFYf"
      },
      "source": [
        "Aplikasi Rekomendasi Skincare Berdasarkan Permasalahan Wajah"
      ]
    },
    {
      "cell_type": "code",
      "metadata": {
        "id": "9uUdg5JHc3MW"
      },
      "source": [
        "import tensorflow as tf\n",
        "import numpy as np\n",
        "import pandas as pd"
      ],
      "execution_count": 1,
      "outputs": []
    },
    {
      "cell_type": "code",
      "metadata": {
        "colab": {
          "base_uri": "https://localhost:8080/"
        },
        "id": "bDYu_8EbJcJv",
        "outputId": "3b9a6c86-cffe-4c2e-eb7f-05844310f56a"
      },
      "source": [
        "# Import the Dataset \n",
        "\n",
        "from google.colab import drive\n",
        "drive.mount('/content/drive') "
      ],
      "execution_count": 2,
      "outputs": [
        {
          "output_type": "stream",
          "name": "stdout",
          "text": [
            "Mounted at /content/drive\n"
          ]
        }
      ]
    },
    {
      "cell_type": "code",
      "metadata": {
        "colab": {
          "base_uri": "https://localhost:8080/"
        },
        "id": "T4k1dtxzMQn2",
        "outputId": "8fa25878-2e6e-4aa0-cd11-34c3548b9ab1"
      },
      "source": [
        "!ls \"/content/drive/MyDrive/Dataset/Capstone_Dataset-rev.csv\""
      ],
      "execution_count": 3,
      "outputs": [
        {
          "output_type": "stream",
          "name": "stdout",
          "text": [
            "/content/drive/MyDrive/Dataset/Capstone_Dataset-rev.csv\n"
          ]
        }
      ]
    },
    {
      "cell_type": "markdown",
      "metadata": {
        "id": "nkJpaDcQMtqz"
      },
      "source": [
        "Preliminary Exploration"
      ]
    },
    {
      "cell_type": "code",
      "metadata": {
        "colab": {
          "base_uri": "https://localhost:8080/",
          "height": 1000
        },
        "id": "jRQzB4E2MiYs",
        "outputId": "2f20c5d1-aa18-418b-d9a4-c21ffd25f7c1"
      },
      "source": [
        "Skincare = pd.read_csv('/content/drive/MyDrive/Dataset/Capstone_Dataset-rev.csv', low_memory=False)\n",
        "Skincare.info()\n",
        "Skincare.head()"
      ],
      "execution_count": 4,
      "outputs": [
        {
          "output_type": "stream",
          "name": "stdout",
          "text": [
            "<class 'pandas.core.frame.DataFrame'>\n",
            "RangeIndex: 1035 entries, 0 to 1034\n",
            "Data columns (total 26 columns):\n",
            " #   Column           Non-Null Count  Dtype  \n",
            "---  ------           --------------  -----  \n",
            " 0   produk-href      1035 non-null   object \n",
            " 1   product_name     1035 non-null   object \n",
            " 2   price            1035 non-null   object \n",
            " 3   description      1035 non-null   object \n",
            " 4   notable_effects  1034 non-null   object \n",
            " 5   skintype         1032 non-null   object \n",
            " 6   picture_src      1035 non-null   object \n",
            " 7   tipe_produk      1035 non-null   object \n",
            " 8   Unnamed: 8       0 non-null      float64\n",
            " 9   Unnamed: 9       0 non-null      float64\n",
            " 10  Unnamed: 10      0 non-null      float64\n",
            " 11  Unnamed: 11      0 non-null      float64\n",
            " 12  Unnamed: 12      0 non-null      float64\n",
            " 13  Unnamed: 13      0 non-null      float64\n",
            " 14  Unnamed: 14      0 non-null      float64\n",
            " 15  Unnamed: 15      0 non-null      float64\n",
            " 16  Unnamed: 16      0 non-null      float64\n",
            " 17  Unnamed: 17      0 non-null      float64\n",
            " 18  Unnamed: 18      0 non-null      float64\n",
            " 19  Unnamed: 19      0 non-null      float64\n",
            " 20  Unnamed: 20      0 non-null      float64\n",
            " 21  Unnamed: 21      0 non-null      float64\n",
            " 22  Unnamed: 22      0 non-null      float64\n",
            " 23  Unnamed: 23      0 non-null      float64\n",
            " 24  Unnamed: 24      0 non-null      float64\n",
            " 25  Unnamed: 25      0 non-null      float64\n",
            "dtypes: float64(18), object(8)\n",
            "memory usage: 210.4+ KB\n"
          ]
        },
        {
          "output_type": "execute_result",
          "data": {
            "text/html": [
              "<div>\n",
              "<style scoped>\n",
              "    .dataframe tbody tr th:only-of-type {\n",
              "        vertical-align: middle;\n",
              "    }\n",
              "\n",
              "    .dataframe tbody tr th {\n",
              "        vertical-align: top;\n",
              "    }\n",
              "\n",
              "    .dataframe thead th {\n",
              "        text-align: right;\n",
              "    }\n",
              "</style>\n",
              "<table border=\"1\" class=\"dataframe\">\n",
              "  <thead>\n",
              "    <tr style=\"text-align: right;\">\n",
              "      <th></th>\n",
              "      <th>produk-href</th>\n",
              "      <th>product_name</th>\n",
              "      <th>price</th>\n",
              "      <th>description</th>\n",
              "      <th>notable_effects</th>\n",
              "      <th>skintype</th>\n",
              "      <th>picture_src</th>\n",
              "      <th>tipe_produk</th>\n",
              "      <th>Unnamed: 8</th>\n",
              "      <th>Unnamed: 9</th>\n",
              "      <th>Unnamed: 10</th>\n",
              "      <th>Unnamed: 11</th>\n",
              "      <th>Unnamed: 12</th>\n",
              "      <th>Unnamed: 13</th>\n",
              "      <th>Unnamed: 14</th>\n",
              "      <th>Unnamed: 15</th>\n",
              "      <th>Unnamed: 16</th>\n",
              "      <th>Unnamed: 17</th>\n",
              "      <th>Unnamed: 18</th>\n",
              "      <th>Unnamed: 19</th>\n",
              "      <th>Unnamed: 20</th>\n",
              "      <th>Unnamed: 21</th>\n",
              "      <th>Unnamed: 22</th>\n",
              "      <th>Unnamed: 23</th>\n",
              "      <th>Unnamed: 24</th>\n",
              "      <th>Unnamed: 25</th>\n",
              "    </tr>\n",
              "  </thead>\n",
              "  <tbody>\n",
              "    <tr>\n",
              "      <th>0</th>\n",
              "      <td>https://www.beautyhaul.com/product/detail/acne...</td>\n",
              "      <td>Acne Gentle Cleansing Foam</td>\n",
              "      <td>Rp 35.000</td>\n",
              "      <td>Pembersih wajah bebas minyak untuk kulit BERJE...</td>\n",
              "      <td>Acne-Free, Anti-Aging, Pore-Care</td>\n",
              "      <td>Dry</td>\n",
              "      <td>https://www.beautyhaul.com/assets/uploads/prod...</td>\n",
              "      <td>facewash</td>\n",
              "      <td>NaN</td>\n",
              "      <td>NaN</td>\n",
              "      <td>NaN</td>\n",
              "      <td>NaN</td>\n",
              "      <td>NaN</td>\n",
              "      <td>NaN</td>\n",
              "      <td>NaN</td>\n",
              "      <td>NaN</td>\n",
              "      <td>NaN</td>\n",
              "      <td>NaN</td>\n",
              "      <td>NaN</td>\n",
              "      <td>NaN</td>\n",
              "      <td>NaN</td>\n",
              "      <td>NaN</td>\n",
              "      <td>NaN</td>\n",
              "      <td>NaN</td>\n",
              "      <td>NaN</td>\n",
              "      <td>NaN</td>\n",
              "    </tr>\n",
              "    <tr>\n",
              "      <th>1</th>\n",
              "      <td>https://www.beautyhaul.com/product/detail/aloe...</td>\n",
              "      <td>Natur Aloe Mild Cleanser</td>\n",
              "      <td>Rp 79.000</td>\n",
              "      <td>Natur Aloe Mild Cleanser dengan brush yang lem...</td>\n",
              "      <td>Anti-Aging, Brightening, Pore-Care</td>\n",
              "      <td>Oily, Dry</td>\n",
              "      <td>https://www.beautyhaul.com/assets/uploads/prod...</td>\n",
              "      <td>facewash</td>\n",
              "      <td>NaN</td>\n",
              "      <td>NaN</td>\n",
              "      <td>NaN</td>\n",
              "      <td>NaN</td>\n",
              "      <td>NaN</td>\n",
              "      <td>NaN</td>\n",
              "      <td>NaN</td>\n",
              "      <td>NaN</td>\n",
              "      <td>NaN</td>\n",
              "      <td>NaN</td>\n",
              "      <td>NaN</td>\n",
              "      <td>NaN</td>\n",
              "      <td>NaN</td>\n",
              "      <td>NaN</td>\n",
              "      <td>NaN</td>\n",
              "      <td>NaN</td>\n",
              "      <td>NaN</td>\n",
              "      <td>NaN</td>\n",
              "    </tr>\n",
              "    <tr>\n",
              "      <th>2</th>\n",
              "      <td>https://www.beautyhaul.com/product/detail/acne...</td>\n",
              "      <td>Acne Care Lab Cleanser Scrub</td>\n",
              "      <td>Rp 104.500</td>\n",
              "      <td>Acne Care Lab Acne Cleanser Scrub Beta Plus (A...</td>\n",
              "      <td>Acne-Free</td>\n",
              "      <td>Dry</td>\n",
              "      <td>https://www.beautyhaul.com/assets/uploads/prod...</td>\n",
              "      <td>facewash</td>\n",
              "      <td>NaN</td>\n",
              "      <td>NaN</td>\n",
              "      <td>NaN</td>\n",
              "      <td>NaN</td>\n",
              "      <td>NaN</td>\n",
              "      <td>NaN</td>\n",
              "      <td>NaN</td>\n",
              "      <td>NaN</td>\n",
              "      <td>NaN</td>\n",
              "      <td>NaN</td>\n",
              "      <td>NaN</td>\n",
              "      <td>NaN</td>\n",
              "      <td>NaN</td>\n",
              "      <td>NaN</td>\n",
              "      <td>NaN</td>\n",
              "      <td>NaN</td>\n",
              "      <td>NaN</td>\n",
              "      <td>NaN</td>\n",
              "    </tr>\n",
              "    <tr>\n",
              "      <th>3</th>\n",
              "      <td>https://www.beautyhaul.com/product/detail/brig...</td>\n",
              "      <td>Brightening Facial Cleanser</td>\n",
              "      <td>Rp 35.000</td>\n",
              "      <td>Pembersih wajah yang segar, lembut dan creamy ...</td>\n",
              "      <td>Acne-Free, Anti-Aging, Brightening, Pore-Care</td>\n",
              "      <td>Oily, Dry</td>\n",
              "      <td>https://www.beautyhaul.com/assets/uploads/prod...</td>\n",
              "      <td>facewash</td>\n",
              "      <td>NaN</td>\n",
              "      <td>NaN</td>\n",
              "      <td>NaN</td>\n",
              "      <td>NaN</td>\n",
              "      <td>NaN</td>\n",
              "      <td>NaN</td>\n",
              "      <td>NaN</td>\n",
              "      <td>NaN</td>\n",
              "      <td>NaN</td>\n",
              "      <td>NaN</td>\n",
              "      <td>NaN</td>\n",
              "      <td>NaN</td>\n",
              "      <td>NaN</td>\n",
              "      <td>NaN</td>\n",
              "      <td>NaN</td>\n",
              "      <td>NaN</td>\n",
              "      <td>NaN</td>\n",
              "      <td>NaN</td>\n",
              "    </tr>\n",
              "    <tr>\n",
              "      <th>4</th>\n",
              "      <td>https://www.beautyhaul.com/product/detail/pome...</td>\n",
              "      <td>Natur Pome Mild Cleanser</td>\n",
              "      <td>Rp 79.000</td>\n",
              "      <td>Natur Pome Mild Cleanser dengan brush yang lem...</td>\n",
              "      <td>Anti-Aging, Brightening, Pore-Care</td>\n",
              "      <td>Oily, Dry</td>\n",
              "      <td>https://www.beautyhaul.com/assets/uploads/prod...</td>\n",
              "      <td>facewash</td>\n",
              "      <td>NaN</td>\n",
              "      <td>NaN</td>\n",
              "      <td>NaN</td>\n",
              "      <td>NaN</td>\n",
              "      <td>NaN</td>\n",
              "      <td>NaN</td>\n",
              "      <td>NaN</td>\n",
              "      <td>NaN</td>\n",
              "      <td>NaN</td>\n",
              "      <td>NaN</td>\n",
              "      <td>NaN</td>\n",
              "      <td>NaN</td>\n",
              "      <td>NaN</td>\n",
              "      <td>NaN</td>\n",
              "      <td>NaN</td>\n",
              "      <td>NaN</td>\n",
              "      <td>NaN</td>\n",
              "      <td>NaN</td>\n",
              "    </tr>\n",
              "  </tbody>\n",
              "</table>\n",
              "</div>"
            ],
            "text/plain": [
              "                                         produk-href  ... Unnamed: 25\n",
              "0  https://www.beautyhaul.com/product/detail/acne...  ...         NaN\n",
              "1  https://www.beautyhaul.com/product/detail/aloe...  ...         NaN\n",
              "2  https://www.beautyhaul.com/product/detail/acne...  ...         NaN\n",
              "3  https://www.beautyhaul.com/product/detail/brig...  ...         NaN\n",
              "4  https://www.beautyhaul.com/product/detail/pome...  ...         NaN\n",
              "\n",
              "[5 rows x 26 columns]"
            ]
          },
          "metadata": {},
          "execution_count": 4
        }
      ]
    }
  ]
}