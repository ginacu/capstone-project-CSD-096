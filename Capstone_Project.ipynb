{
  "nbformat": 4,
  "nbformat_minor": 0,
  "metadata": {
    "colab": {
      "name": "Capstone_Project.ipynb",
      "provenance": [],
      "collapsed_sections": [],
      "authorship_tag": "ABX9TyOtou6vYO5WRKh/wwTPu9Ps",
      "include_colab_link": true
    },
    "kernelspec": {
      "name": "python3",
      "display_name": "Python 3"
    },
    "language_info": {
      "name": "python"
    }
  },
  "cells": [
    {
      "cell_type": "markdown",
      "metadata": {
        "id": "view-in-github",
        "colab_type": "text"
      },
      "source": [
        "<a href=\"https://colab.research.google.com/github/ginacu/capstone-project-CSD-096/blob/main/Capstone_Project.ipynb\" target=\"_parent\"><img src=\"https://colab.research.google.com/assets/colab-badge.svg\" alt=\"Open In Colab\"/></a>"
      ]
    },
    {
      "cell_type": "markdown",
      "metadata": {
        "id": "YAoLkfdGdFYf"
      },
      "source": [
        "Aplikasi Rekomendasi Skincare Berdasarkan Permasalahan Wajah"
      ]
    },
    {
      "cell_type": "code",
      "metadata": {
        "id": "9uUdg5JHc3MW"
      },
      "source": [
        "import tensorflow as tf\n",
        "import numpy as np\n",
        "import pandas as pd\n",
        "import matplotlib.pyplot as plt \n",
        "%matplotlib inline\n",
        "import plotly.express as px\n",
        "import seaborn as sns\n",
        "import missingno as mno\n",
        "from sklearn.manifold import TSNE"
      ],
      "execution_count": 1,
      "outputs": []
    },
    {
      "cell_type": "code",
      "metadata": {
        "colab": {
          "base_uri": "https://localhost:8080/"
        },
        "id": "bDYu_8EbJcJv",
        "outputId": "84978c78-a990-4bd7-d0f0-948ad8ead17e"
      },
      "source": [
        "# Import the Dataset \n",
        "\n",
        "from google.colab import drive\n",
        "drive.mount('/content/drive') "
      ],
      "execution_count": 2,
      "outputs": [
        {
          "output_type": "stream",
          "name": "stdout",
          "text": [
            "Mounted at /content/drive\n"
          ]
        }
      ]
    },
    {
      "cell_type": "code",
      "metadata": {
        "colab": {
          "base_uri": "https://localhost:8080/"
        },
        "id": "T4k1dtxzMQn2",
        "outputId": "df9d1b83-60ea-41c8-eb76-ad7562389c27"
      },
      "source": [
        "!ls \"/content/drive/MyDrive/Dataset/Capstone-Dataset-rev2 (2).csv\""
      ],
      "execution_count": 3,
      "outputs": [
        {
          "output_type": "stream",
          "name": "stdout",
          "text": [
            "'/content/drive/MyDrive/Dataset/Capstone-Dataset-rev2 (2).csv'\n"
          ]
        }
      ]
    },
    {
      "cell_type": "markdown",
      "metadata": {
        "id": "nkJpaDcQMtqz"
      },
      "source": [
        "Preliminary Exploration"
      ]
    },
    {
      "cell_type": "code",
      "metadata": {
        "colab": {
          "base_uri": "https://localhost:8080/",
          "height": 1000
        },
        "id": "jRQzB4E2MiYs",
        "outputId": "97a43f89-22eb-44e2-ea46-c087bb455653"
      },
      "source": [
        "skincare = pd.read_csv('/content/drive/MyDrive/Dataset/Capstone-Dataset-rev2 (2).csv', low_memory=False)\n",
        "skincare.info()\n",
        "skincare.head()"
      ],
      "execution_count": 4,
      "outputs": [
        {
          "output_type": "stream",
          "name": "stdout",
          "text": [
            "<class 'pandas.core.frame.DataFrame'>\n",
            "RangeIndex: 1034 entries, 0 to 1033\n",
            "Data columns (total 26 columns):\n",
            " #   Column           Non-Null Count  Dtype  \n",
            "---  ------           --------------  -----  \n",
            " 0   produk-href      1034 non-null   object \n",
            " 1   product_name     1034 non-null   object \n",
            " 2   price            1034 non-null   object \n",
            " 3   description      1034 non-null   object \n",
            " 4   notable_effects  1034 non-null   object \n",
            " 5   skintype         1031 non-null   object \n",
            " 6   picture_src      1034 non-null   object \n",
            " 7   tipe_produk      1034 non-null   object \n",
            " 8   Unnamed: 8       0 non-null      float64\n",
            " 9   Unnamed: 9       0 non-null      float64\n",
            " 10  Unnamed: 10      0 non-null      float64\n",
            " 11  Unnamed: 11      0 non-null      float64\n",
            " 12  Unnamed: 12      0 non-null      float64\n",
            " 13  Unnamed: 13      0 non-null      float64\n",
            " 14  Unnamed: 14      0 non-null      float64\n",
            " 15  Unnamed: 15      0 non-null      float64\n",
            " 16  Unnamed: 16      0 non-null      float64\n",
            " 17  Unnamed: 17      0 non-null      float64\n",
            " 18  Unnamed: 18      0 non-null      float64\n",
            " 19  Unnamed: 19      0 non-null      float64\n",
            " 20  Unnamed: 20      0 non-null      float64\n",
            " 21  Unnamed: 21      0 non-null      float64\n",
            " 22  Unnamed: 22      0 non-null      float64\n",
            " 23  Unnamed: 23      0 non-null      float64\n",
            " 24  Unnamed: 24      0 non-null      float64\n",
            " 25  Unnamed: 25      0 non-null      float64\n",
            "dtypes: float64(18), object(8)\n",
            "memory usage: 210.2+ KB\n"
          ]
        },
        {
          "output_type": "execute_result",
          "data": {
            "text/html": [
              "<div>\n",
              "<style scoped>\n",
              "    .dataframe tbody tr th:only-of-type {\n",
              "        vertical-align: middle;\n",
              "    }\n",
              "\n",
              "    .dataframe tbody tr th {\n",
              "        vertical-align: top;\n",
              "    }\n",
              "\n",
              "    .dataframe thead th {\n",
              "        text-align: right;\n",
              "    }\n",
              "</style>\n",
              "<table border=\"1\" class=\"dataframe\">\n",
              "  <thead>\n",
              "    <tr style=\"text-align: right;\">\n",
              "      <th></th>\n",
              "      <th>produk-href</th>\n",
              "      <th>product_name</th>\n",
              "      <th>price</th>\n",
              "      <th>description</th>\n",
              "      <th>notable_effects</th>\n",
              "      <th>skintype</th>\n",
              "      <th>picture_src</th>\n",
              "      <th>tipe_produk</th>\n",
              "      <th>Unnamed: 8</th>\n",
              "      <th>Unnamed: 9</th>\n",
              "      <th>Unnamed: 10</th>\n",
              "      <th>Unnamed: 11</th>\n",
              "      <th>Unnamed: 12</th>\n",
              "      <th>Unnamed: 13</th>\n",
              "      <th>Unnamed: 14</th>\n",
              "      <th>Unnamed: 15</th>\n",
              "      <th>Unnamed: 16</th>\n",
              "      <th>Unnamed: 17</th>\n",
              "      <th>Unnamed: 18</th>\n",
              "      <th>Unnamed: 19</th>\n",
              "      <th>Unnamed: 20</th>\n",
              "      <th>Unnamed: 21</th>\n",
              "      <th>Unnamed: 22</th>\n",
              "      <th>Unnamed: 23</th>\n",
              "      <th>Unnamed: 24</th>\n",
              "      <th>Unnamed: 25</th>\n",
              "    </tr>\n",
              "  </thead>\n",
              "  <tbody>\n",
              "    <tr>\n",
              "      <th>0</th>\n",
              "      <td>https://www.beautyhaul.com/product/detail/acne...</td>\n",
              "      <td>Acne Gentle Cleansing Foam</td>\n",
              "      <td>Rp 35.000</td>\n",
              "      <td>Pembersih wajah bebas minyak untuk kulit BERJE...</td>\n",
              "      <td>Acne-Free, Oil-Control, Pore-Care</td>\n",
              "      <td>Dry</td>\n",
              "      <td>https://www.beautyhaul.com/assets/uploads/prod...</td>\n",
              "      <td>facewash</td>\n",
              "      <td>NaN</td>\n",
              "      <td>NaN</td>\n",
              "      <td>NaN</td>\n",
              "      <td>NaN</td>\n",
              "      <td>NaN</td>\n",
              "      <td>NaN</td>\n",
              "      <td>NaN</td>\n",
              "      <td>NaN</td>\n",
              "      <td>NaN</td>\n",
              "      <td>NaN</td>\n",
              "      <td>NaN</td>\n",
              "      <td>NaN</td>\n",
              "      <td>NaN</td>\n",
              "      <td>NaN</td>\n",
              "      <td>NaN</td>\n",
              "      <td>NaN</td>\n",
              "      <td>NaN</td>\n",
              "      <td>NaN</td>\n",
              "    </tr>\n",
              "    <tr>\n",
              "      <th>1</th>\n",
              "      <td>https://www.beautyhaul.com/product/detail/aloe...</td>\n",
              "      <td>Natur Aloe Mild Cleanser</td>\n",
              "      <td>Rp 79.000</td>\n",
              "      <td>Natur Aloe Mild Cleanser dengan brush yang lem...</td>\n",
              "      <td>Pore-Care, Brightening, Anti-Aging</td>\n",
              "      <td>Dry, Oily, Sensitive</td>\n",
              "      <td>https://www.beautyhaul.com/assets/uploads/prod...</td>\n",
              "      <td>facewash</td>\n",
              "      <td>NaN</td>\n",
              "      <td>NaN</td>\n",
              "      <td>NaN</td>\n",
              "      <td>NaN</td>\n",
              "      <td>NaN</td>\n",
              "      <td>NaN</td>\n",
              "      <td>NaN</td>\n",
              "      <td>NaN</td>\n",
              "      <td>NaN</td>\n",
              "      <td>NaN</td>\n",
              "      <td>NaN</td>\n",
              "      <td>NaN</td>\n",
              "      <td>NaN</td>\n",
              "      <td>NaN</td>\n",
              "      <td>NaN</td>\n",
              "      <td>NaN</td>\n",
              "      <td>NaN</td>\n",
              "      <td>NaN</td>\n",
              "    </tr>\n",
              "    <tr>\n",
              "      <th>2</th>\n",
              "      <td>https://www.beautyhaul.com/product/detail/acne...</td>\n",
              "      <td>Acne Care Lab Cleanser Scrub</td>\n",
              "      <td>Rp 104.500</td>\n",
              "      <td>Acne Care Lab Acne Cleanser Scrub Beta Plus (A...</td>\n",
              "      <td>Acne-Free</td>\n",
              "      <td>Dry</td>\n",
              "      <td>https://www.beautyhaul.com/assets/uploads/prod...</td>\n",
              "      <td>facewash</td>\n",
              "      <td>NaN</td>\n",
              "      <td>NaN</td>\n",
              "      <td>NaN</td>\n",
              "      <td>NaN</td>\n",
              "      <td>NaN</td>\n",
              "      <td>NaN</td>\n",
              "      <td>NaN</td>\n",
              "      <td>NaN</td>\n",
              "      <td>NaN</td>\n",
              "      <td>NaN</td>\n",
              "      <td>NaN</td>\n",
              "      <td>NaN</td>\n",
              "      <td>NaN</td>\n",
              "      <td>NaN</td>\n",
              "      <td>NaN</td>\n",
              "      <td>NaN</td>\n",
              "      <td>NaN</td>\n",
              "      <td>NaN</td>\n",
              "    </tr>\n",
              "    <tr>\n",
              "      <th>3</th>\n",
              "      <td>https://www.beautyhaul.com/product/detail/brig...</td>\n",
              "      <td>Brightening Facial Cleanser</td>\n",
              "      <td>Rp 35.000</td>\n",
              "      <td>Pembersih wajah yang segar, lembut dan creamy ...</td>\n",
              "      <td>Acne-Free, Pore-Care, Brightening, Anti-Aging</td>\n",
              "      <td>Dry, Oily, Sensitive</td>\n",
              "      <td>https://www.beautyhaul.com/assets/uploads/prod...</td>\n",
              "      <td>facewash</td>\n",
              "      <td>NaN</td>\n",
              "      <td>NaN</td>\n",
              "      <td>NaN</td>\n",
              "      <td>NaN</td>\n",
              "      <td>NaN</td>\n",
              "      <td>NaN</td>\n",
              "      <td>NaN</td>\n",
              "      <td>NaN</td>\n",
              "      <td>NaN</td>\n",
              "      <td>NaN</td>\n",
              "      <td>NaN</td>\n",
              "      <td>NaN</td>\n",
              "      <td>NaN</td>\n",
              "      <td>NaN</td>\n",
              "      <td>NaN</td>\n",
              "      <td>NaN</td>\n",
              "      <td>NaN</td>\n",
              "      <td>NaN</td>\n",
              "    </tr>\n",
              "    <tr>\n",
              "      <th>4</th>\n",
              "      <td>https://www.beautyhaul.com/product/detail/pome...</td>\n",
              "      <td>Natur Pome Mild Cleanser</td>\n",
              "      <td>Rp 79.000</td>\n",
              "      <td>Natur Pome Mild Cleanser dengan brush yang lem...</td>\n",
              "      <td>Pore-Care, Brightening, Anti-Aging</td>\n",
              "      <td>Dry, Oily, Sensitive</td>\n",
              "      <td>https://www.beautyhaul.com/assets/uploads/prod...</td>\n",
              "      <td>facewash</td>\n",
              "      <td>NaN</td>\n",
              "      <td>NaN</td>\n",
              "      <td>NaN</td>\n",
              "      <td>NaN</td>\n",
              "      <td>NaN</td>\n",
              "      <td>NaN</td>\n",
              "      <td>NaN</td>\n",
              "      <td>NaN</td>\n",
              "      <td>NaN</td>\n",
              "      <td>NaN</td>\n",
              "      <td>NaN</td>\n",
              "      <td>NaN</td>\n",
              "      <td>NaN</td>\n",
              "      <td>NaN</td>\n",
              "      <td>NaN</td>\n",
              "      <td>NaN</td>\n",
              "      <td>NaN</td>\n",
              "      <td>NaN</td>\n",
              "    </tr>\n",
              "  </tbody>\n",
              "</table>\n",
              "</div>"
            ],
            "text/plain": [
              "                                         produk-href  ... Unnamed: 25\n",
              "0  https://www.beautyhaul.com/product/detail/acne...  ...         NaN\n",
              "1  https://www.beautyhaul.com/product/detail/aloe...  ...         NaN\n",
              "2  https://www.beautyhaul.com/product/detail/acne...  ...         NaN\n",
              "3  https://www.beautyhaul.com/product/detail/brig...  ...         NaN\n",
              "4  https://www.beautyhaul.com/product/detail/pome...  ...         NaN\n",
              "\n",
              "[5 rows x 26 columns]"
            ]
          },
          "metadata": {},
          "execution_count": 4
        }
      ]
    },
    {
      "cell_type": "code",
      "metadata": {
        "colab": {
          "base_uri": "https://localhost:8080/"
        },
        "id": "TOqywcsJBS1t",
        "outputId": "6247bffa-67c9-4a4e-945c-5e3db06d9c50"
      },
      "source": [
        "# Remove column Unnamed 8-25 as not important to the model \n",
        "\n",
        "skincare.drop([\"Unnamed: 8\", \"Unnamed: 9\", \"Unnamed: 10\", \"Unnamed: 11\", \"Unnamed: 12\", \"Unnamed: 13\", \"Unnamed: 14\", \"Unnamed: 15\", \"Unnamed: 16\", \"Unnamed: 17\", \"Unnamed: 18\", \"Unnamed: 19\", \"Unnamed: 20\", \"Unnamed: 21\", \"Unnamed: 22\", \"Unnamed: 23\", \"Unnamed: 24\", \"Unnamed: 25\"], axis=1, inplace=True)\n",
        "skincare.info()"
      ],
      "execution_count": 5,
      "outputs": [
        {
          "output_type": "stream",
          "name": "stdout",
          "text": [
            "<class 'pandas.core.frame.DataFrame'>\n",
            "RangeIndex: 1034 entries, 0 to 1033\n",
            "Data columns (total 8 columns):\n",
            " #   Column           Non-Null Count  Dtype \n",
            "---  ------           --------------  ----- \n",
            " 0   produk-href      1034 non-null   object\n",
            " 1   product_name     1034 non-null   object\n",
            " 2   price            1034 non-null   object\n",
            " 3   description      1034 non-null   object\n",
            " 4   notable_effects  1034 non-null   object\n",
            " 5   skintype         1031 non-null   object\n",
            " 6   picture_src      1034 non-null   object\n",
            " 7   tipe_produk      1034 non-null   object\n",
            "dtypes: object(8)\n",
            "memory usage: 64.8+ KB\n"
          ]
        }
      ]
    },
    {
      "cell_type": "markdown",
      "metadata": {
        "id": "4R8-1rY4EaYB"
      },
      "source": [
        "# Data Exploration "
      ]
    },
    {
      "cell_type": "code",
      "source": [
        "# Let's look at the unique classes in data\n",
        "skincare['notable_effects'].unique()"
      ],
      "metadata": {
        "colab": {
          "base_uri": "https://localhost:8080/"
        },
        "id": "0UImJaQ61GaA",
        "outputId": "56d3b49b-6ae4-46cc-b221-191cf35eb7c9"
      },
      "execution_count": 6,
      "outputs": [
        {
          "output_type": "execute_result",
          "data": {
            "text/plain": [
              "array(['Acne-Free, Oil-Control, Pore-Care',\n",
              "       'Pore-Care, Brightening, Anti-Aging', 'Acne-Free',\n",
              "       'Acne-Free, Pore-Care, Brightening, Anti-Aging', 'Anti-Aging',\n",
              "       'Soothing, Brightening', 'Cleansing', 'Soothing, Moisturizing',\n",
              "       'Hydrating, Soothing', 'Moisturizing',\n",
              "       'Brightening, Anti-Aging, UV-Protection',\n",
              "       'Hydrating, Moisturizing', 'Acne-Free, Brightening, Anti-Aging',\n",
              "       'Anti-Aging\\n', 'UV-Protection', 'Brightening, Anti-Aging',\n",
              "       'Soothing, Balancing', 'Anti-Aging, UV-Protection',\n",
              "       'Moisturizing, Brightening, Black-Spot',\n",
              "       'Pore-Care,  Brightening, Anti-Aging',\n",
              "       'Acne-Free,  Pore-Care, Anti-Aging', 'Brightening, UV-Protection',\n",
              "       'Moisturizing, UV-Protection', 'UV-Protection, No-Whitecast'],\n",
              "      dtype=object)"
            ]
          },
          "metadata": {},
          "execution_count": 6
        }
      ]
    },
    {
      "cell_type": "code",
      "source": [
        "# Looking at number of classes \n",
        "skincare['notable_effects'].nunique()"
      ],
      "metadata": {
        "colab": {
          "base_uri": "https://localhost:8080/"
        },
        "id": "pfscY_Or1y92",
        "outputId": "b0c26926-4ec1-4da2-91ee-3f2eaf490fec"
      },
      "execution_count": 7,
      "outputs": [
        {
          "output_type": "execute_result",
          "data": {
            "text/plain": [
              "24"
            ]
          },
          "metadata": {},
          "execution_count": 7
        }
      ]
    },
    {
      "cell_type": "code",
      "metadata": {
        "id": "jMHhIHk8FJu3"
      },
      "source": [
        "categorical_features = ['notable_effects', 'skintype', 'tipe_produk']"
      ],
      "execution_count": 8,
      "outputs": []
    },
    {
      "cell_type": "code",
      "metadata": {
        "colab": {
          "base_uri": "https://localhost:8080/",
          "height": 1000
        },
        "id": "wzgt9D9kEdAZ",
        "outputId": "f1777d3f-8eba-4621-d3dc-1baf737aee74"
      },
      "source": [
        "#Plotting Categorical Variables\n",
        "\n",
        "fig, ax = plt.subplots(1, 2)\n",
        "skincare[\"notable_effects\"].value_counts().plot.bar(color=\"brown\", ax=ax[0])\n",
        "skincare[\"notable_effects\"].value_counts().plot.pie(autopct='%1.1f%%',shadow=True,textprops={\"fontsize\": 8},ax=ax[1])\n",
        "fig.suptitle(\"Effects Frequency\", fontsize=15)\n",
        "plt.xticks(rotation=90)\n",
        "plt.yticks(rotation=45)\n",
        "\n",
        "fig, ax = plt.subplots(1, 2)\n",
        "skincare[\"skintype\"].value_counts().plot.bar(color=\"brown\", ax=ax[0])\n",
        "skincare[\"skintype\"].value_counts().plot.pie(autopct='%1.1f%%',shadow=True,textprops={\"fontsize\": 10},ax=ax[1])\n",
        "fig.suptitle(\"Skintype Frequency\", fontsize=15)\n",
        "plt.xticks(rotation=90)\n",
        "plt.yticks(rotation=45)\n",
        "\n",
        "fig, ax = plt.subplots(1, 2)\n",
        "skincare[\"tipe_produk\"].value_counts().plot.bar(color=\"brown\", ax=ax[0])\n",
        "skincare[\"tipe_produk\"].value_counts().plot.pie(autopct='%1.1f%%',shadow=True,textprops={\"fontsize\": 10},ax=ax[1])\n",
        "fig.suptitle(\"Product Type Frequency\", fontsize=15)\n",
        "plt.xticks(rotation=90)\n",
        "plt.yticks(rotation=45)"
      ],
      "execution_count": 11,
      "outputs": [
        {
          "output_type": "execute_result",
          "data": {
            "text/plain": [
              "(array([], dtype=float64), <a list of 0 Text major ticklabel objects>)"
            ]
          },
          "metadata": {},
          "execution_count": 11
        },
        {
          "output_type": "display_data",
          "data": {
            "image/png": "[encoded data removed]",
            "text/plain": [
              "<Figure size 432x288 with 2 Axes>"
            ]
          },
          "metadata": {
            "needs_background": "light"
          }
        },
        {
          "output_type": "display_data",
          "data": {
            "image/png": "[encoded data removed]",
            "text/plain": [
              "<Figure size 432x288 with 2 Axes>"
            ]
          },
          "metadata": {
            "needs_background": "light"
          }
        },
        {
          "output_type": "display_data",
          "data": {
            "image/png": "[encoded data removed]",
            "text/plain": [
              "<Figure size 432x288 with 2 Axes>"
            ]
          },
          "metadata": {
            "needs_background": "light"
          }
        }
      ]
    },
    {
      "cell_type": "code",
      "source": [
        "# Creating numerical labels of notable_effects due to many effects shown by the diagram above\n",
        "skincare['notable_effects']=skincare['notable_effects'].astype('category')\n",
        "skincare['labels']=skincare['notable_effects'].cat.codes\n",
        "skincare.head()"
      ],
      "metadata": {
        "colab": {
          "base_uri": "https://localhost:8080/",
          "height": 608
        },
        "id": "u-WLO1Ro52CS",
        "outputId": "b763556d-b1bb-4374-e2dd-194d079aa956"
      },
      "execution_count": 12,
      "outputs": [
        {
          "output_type": "execute_result",
          "data": {
            "text/html": [
              "<div>\n",
              "<style scoped>\n",
              "    .dataframe tbody tr th:only-of-type {\n",
              "        vertical-align: middle;\n",
              "    }\n",
              "\n",
              "    .dataframe tbody tr th {\n",
              "        vertical-align: top;\n",
              "    }\n",
              "\n",
              "    .dataframe thead th {\n",
              "        text-align: right;\n",
              "    }\n",
              "</style>\n",
              "<table border=\"1\" class=\"dataframe\">\n",
              "  <thead>\n",
              "    <tr style=\"text-align: right;\">\n",
              "      <th></th>\n",
              "      <th>produk-href</th>\n",
              "      <th>product_name</th>\n",
              "      <th>price</th>\n",
              "      <th>description</th>\n",
              "      <th>notable_effects</th>\n",
              "      <th>skintype</th>\n",
              "      <th>picture_src</th>\n",
              "      <th>tipe_produk</th>\n",
              "      <th>labels</th>\n",
              "    </tr>\n",
              "  </thead>\n",
              "  <tbody>\n",
              "    <tr>\n",
              "      <th>0</th>\n",
              "      <td>https://www.beautyhaul.com/product/detail/acne...</td>\n",
              "      <td>Acne Gentle Cleansing Foam</td>\n",
              "      <td>Rp 35.000</td>\n",
              "      <td>Pembersih wajah bebas minyak untuk kulit BERJE...</td>\n",
              "      <td>Acne-Free, Oil-Control, Pore-Care</td>\n",
              "      <td>Dry</td>\n",
              "      <td>https://www.beautyhaul.com/assets/uploads/prod...</td>\n",
              "      <td>facewash</td>\n",
              "      <td>3</td>\n",
              "    </tr>\n",
              "    <tr>\n",
              "      <th>1</th>\n",
              "      <td>https://www.beautyhaul.com/product/detail/aloe...</td>\n",
              "      <td>Natur Aloe Mild Cleanser</td>\n",
              "      <td>Rp 79.000</td>\n",
              "      <td>Natur Aloe Mild Cleanser dengan brush yang lem...</td>\n",
              "      <td>Pore-Care, Brightening, Anti-Aging</td>\n",
              "      <td>Dry, Oily, Sensitive</td>\n",
              "      <td>https://www.beautyhaul.com/assets/uploads/prod...</td>\n",
              "      <td>facewash</td>\n",
              "      <td>18</td>\n",
              "    </tr>\n",
              "    <tr>\n",
              "      <th>2</th>\n",
              "      <td>https://www.beautyhaul.com/product/detail/acne...</td>\n",
              "      <td>Acne Care Lab Cleanser Scrub</td>\n",
              "      <td>Rp 104.500</td>\n",
              "      <td>Acne Care Lab Acne Cleanser Scrub Beta Plus (A...</td>\n",
              "      <td>Acne-Free</td>\n",
              "      <td>Dry</td>\n",
              "      <td>https://www.beautyhaul.com/assets/uploads/prod...</td>\n",
              "      <td>facewash</td>\n",
              "      <td>0</td>\n",
              "    </tr>\n",
              "    <tr>\n",
              "      <th>3</th>\n",
              "      <td>https://www.beautyhaul.com/product/detail/brig...</td>\n",
              "      <td>Brightening Facial Cleanser</td>\n",
              "      <td>Rp 35.000</td>\n",
              "      <td>Pembersih wajah yang segar, lembut dan creamy ...</td>\n",
              "      <td>Acne-Free, Pore-Care, Brightening, Anti-Aging</td>\n",
              "      <td>Dry, Oily, Sensitive</td>\n",
              "      <td>https://www.beautyhaul.com/assets/uploads/prod...</td>\n",
              "      <td>facewash</td>\n",
              "      <td>4</td>\n",
              "    </tr>\n",
              "    <tr>\n",
              "      <th>4</th>\n",
              "      <td>https://www.beautyhaul.com/product/detail/pome...</td>\n",
              "      <td>Natur Pome Mild Cleanser</td>\n",
              "      <td>Rp 79.000</td>\n",
              "      <td>Natur Pome Mild Cleanser dengan brush yang lem...</td>\n",
              "      <td>Pore-Care, Brightening, Anti-Aging</td>\n",
              "      <td>Dry, Oily, Sensitive</td>\n",
              "      <td>https://www.beautyhaul.com/assets/uploads/prod...</td>\n",
              "      <td>facewash</td>\n",
              "      <td>18</td>\n",
              "    </tr>\n",
              "  </tbody>\n",
              "</table>\n",
              "</div>"
            ],
            "text/plain": [
              "                                         produk-href  ... labels\n",
              "0  https://www.beautyhaul.com/product/detail/acne...  ...      3\n",
              "1  https://www.beautyhaul.com/product/detail/aloe...  ...     18\n",
              "2  https://www.beautyhaul.com/product/detail/acne...  ...      0\n",
              "3  https://www.beautyhaul.com/product/detail/brig...  ...      4\n",
              "4  https://www.beautyhaul.com/product/detail/pome...  ...     18\n",
              "\n",
              "[5 rows x 9 columns]"
            ]
          },
          "metadata": {},
          "execution_count": 12
        }
      ]
    },
    {
      "cell_type": "code",
      "source": [
        "# Looking at the label distribution\n",
        "plt.figure(figsize=(20,10))\n",
        "sns.countplot(skincare['labels'])"
      ],
      "metadata": {
        "colab": {
          "base_uri": "https://localhost:8080/",
          "height": 713
        },
        "id": "5Fhp7saz2EL6",
        "outputId": "6f6b4847-f28c-4871-9d19-e492af785037"
      },
      "execution_count": 13,
      "outputs": [
        {
          "output_type": "stream",
          "name": "stderr",
          "text": [
            "/usr/local/lib/python3.7/dist-packages/seaborn/_decorators.py:43: FutureWarning:\n",
            "\n",
            "Pass the following variable as a keyword arg: x. From version 0.12, the only valid positional argument will be `data`, and passing other arguments without an explicit keyword will result in an error or misinterpretation.\n",
            "\n"
          ]
        },
        {
          "output_type": "execute_result",
          "data": {
            "text/plain": [
              "<matplotlib.axes._subplots.AxesSubplot at 0x7fa8f53fd350>"
            ]
          },
          "metadata": {},
          "execution_count": 13
        },
        {
          "output_type": "display_data",
          "data": {
            "image/png": "[encoded data removed]",
            "text/plain": [
              "<Figure size 1440x720 with 1 Axes>"
            ]
          },
          "metadata": {
            "needs_background": "light"
          }
        }
      ]
    },
    {
      "cell_type": "code",
      "source": [
        "# Checking data balancing \n",
        "\n",
        "auto_balancing = pd.DataFrame()\n",
        "auto_balancing[\"Count\"] = skincare[\"skintype\"].value_counts()\n",
        "auto_balancing[\"Count%\"] = skincare[\"skintype\"].value_counts()/skincare.shape[0]*100\n",
        "\n",
        "auto_balancing"
      ],
      "metadata": {
        "colab": {
          "base_uri": "https://localhost:8080/",
          "height": 426
        },
        "id": "nqaQmQUyvw_i",
        "outputId": "cdc85340-f5f3-44e3-d859-787ae4573612"
      },
      "execution_count": 14,
      "outputs": [
        {
          "output_type": "execute_result",
          "data": {
            "text/html": [
              "<div>\n",
              "<style scoped>\n",
              "    .dataframe tbody tr th:only-of-type {\n",
              "        vertical-align: middle;\n",
              "    }\n",
              "\n",
              "    .dataframe tbody tr th {\n",
              "        vertical-align: top;\n",
              "    }\n",
              "\n",
              "    .dataframe thead th {\n",
              "        text-align: right;\n",
              "    }\n",
              "</style>\n",
              "<table border=\"1\" class=\"dataframe\">\n",
              "  <thead>\n",
              "    <tr style=\"text-align: right;\">\n",
              "      <th></th>\n",
              "      <th>Count</th>\n",
              "      <th>Count%</th>\n",
              "    </tr>\n",
              "  </thead>\n",
              "  <tbody>\n",
              "    <tr>\n",
              "      <th>Oily</th>\n",
              "      <td>307</td>\n",
              "      <td>29.690522</td>\n",
              "    </tr>\n",
              "    <tr>\n",
              "      <th>Normal, Dry, Oily, Combination, Sensitive</th>\n",
              "      <td>191</td>\n",
              "      <td>18.471954</td>\n",
              "    </tr>\n",
              "    <tr>\n",
              "      <th>Dry</th>\n",
              "      <td>170</td>\n",
              "      <td>16.441006</td>\n",
              "    </tr>\n",
              "    <tr>\n",
              "      <th>Normal</th>\n",
              "      <td>71</td>\n",
              "      <td>6.866538</td>\n",
              "    </tr>\n",
              "    <tr>\n",
              "      <th>Sensitive</th>\n",
              "      <td>69</td>\n",
              "      <td>6.673114</td>\n",
              "    </tr>\n",
              "    <tr>\n",
              "      <th>Normal, Dry, Oily, Sensitive</th>\n",
              "      <td>66</td>\n",
              "      <td>6.382979</td>\n",
              "    </tr>\n",
              "    <tr>\n",
              "      <th>Dry, Oily, Sensitive</th>\n",
              "      <td>45</td>\n",
              "      <td>4.352031</td>\n",
              "    </tr>\n",
              "    <tr>\n",
              "      <th>Normal, Dry</th>\n",
              "      <td>37</td>\n",
              "      <td>3.578337</td>\n",
              "    </tr>\n",
              "    <tr>\n",
              "      <th>Oily, Combination, Sensitive</th>\n",
              "      <td>24</td>\n",
              "      <td>2.321083</td>\n",
              "    </tr>\n",
              "    <tr>\n",
              "      <th>Dry, Sensitive</th>\n",
              "      <td>23</td>\n",
              "      <td>2.224371</td>\n",
              "    </tr>\n",
              "    <tr>\n",
              "      <th>Oily, Sensitive</th>\n",
              "      <td>15</td>\n",
              "      <td>1.450677</td>\n",
              "    </tr>\n",
              "    <tr>\n",
              "      <th>Dry, Oily, Combination</th>\n",
              "      <td>13</td>\n",
              "      <td>1.257253</td>\n",
              "    </tr>\n",
              "  </tbody>\n",
              "</table>\n",
              "</div>"
            ],
            "text/plain": [
              "                                           Count     Count%\n",
              "Oily                                         307  29.690522\n",
              "Normal, Dry, Oily, Combination, Sensitive    191  18.471954\n",
              "Dry                                          170  16.441006\n",
              "Normal                                        71   6.866538\n",
              "Sensitive                                     69   6.673114\n",
              "Normal, Dry, Oily, Sensitive                  66   6.382979\n",
              "Dry, Oily, Sensitive                          45   4.352031\n",
              "Normal, Dry                                   37   3.578337\n",
              "Oily, Combination, Sensitive                  24   2.321083\n",
              "Dry, Sensitive                                23   2.224371\n",
              "Oily, Sensitive                               15   1.450677\n",
              "Dry, Oily, Combination                        13   1.257253"
            ]
          },
          "metadata": {},
          "execution_count": 14
        }
      ]
    },
    {
      "cell_type": "code",
      "source": [
        "# Checking data balancing (for classification)\n",
        "\n",
        "auto_balancing = pd.DataFrame()\n",
        "auto_balancing[\"Count\"] = skincare[\"tipe_produk\"].value_counts()\n",
        "auto_balancing[\"Count%\"] = skincare[\"tipe_produk\"].value_counts()/skincare.shape[0]*100\n",
        "\n",
        "auto_balancing"
      ],
      "metadata": {
        "colab": {
          "base_uri": "https://localhost:8080/",
          "height": 206
        },
        "id": "4i9Mi-CuwcQL",
        "outputId": "a93d9e01-6a95-4172-975c-07fcd4760747"
      },
      "execution_count": 15,
      "outputs": [
        {
          "output_type": "execute_result",
          "data": {
            "text/html": [
              "<div>\n",
              "<style scoped>\n",
              "    .dataframe tbody tr th:only-of-type {\n",
              "        vertical-align: middle;\n",
              "    }\n",
              "\n",
              "    .dataframe tbody tr th {\n",
              "        vertical-align: top;\n",
              "    }\n",
              "\n",
              "    .dataframe thead th {\n",
              "        text-align: right;\n",
              "    }\n",
              "</style>\n",
              "<table border=\"1\" class=\"dataframe\">\n",
              "  <thead>\n",
              "    <tr style=\"text-align: right;\">\n",
              "      <th></th>\n",
              "      <th>Count</th>\n",
              "      <th>Count%</th>\n",
              "    </tr>\n",
              "  </thead>\n",
              "  <tbody>\n",
              "    <tr>\n",
              "      <th>serum</th>\n",
              "      <td>236</td>\n",
              "      <td>22.823985</td>\n",
              "    </tr>\n",
              "    <tr>\n",
              "      <th>toner</th>\n",
              "      <td>212</td>\n",
              "      <td>20.502901</td>\n",
              "    </tr>\n",
              "    <tr>\n",
              "      <th>moisturizer</th>\n",
              "      <td>212</td>\n",
              "      <td>20.502901</td>\n",
              "    </tr>\n",
              "    <tr>\n",
              "      <th>sunscreen</th>\n",
              "      <td>190</td>\n",
              "      <td>18.375242</td>\n",
              "    </tr>\n",
              "    <tr>\n",
              "      <th>facewash</th>\n",
              "      <td>184</td>\n",
              "      <td>17.794971</td>\n",
              "    </tr>\n",
              "  </tbody>\n",
              "</table>\n",
              "</div>"
            ],
            "text/plain": [
              "             Count     Count%\n",
              "serum          236  22.823985\n",
              "toner          212  20.502901\n",
              "moisturizer    212  20.502901\n",
              "sunscreen      190  18.375242\n",
              "facewash       184  17.794971"
            ]
          },
          "metadata": {},
          "execution_count": 15
        }
      ]
    },
    {
      "cell_type": "code",
      "source": [
        "# Plotting top notable_effects from skincare product \n",
        "\n",
        "top_effects=(skincare['notable_effects'].value_counts()).to_dict()\n",
        "count= pd.DataFrame(list(top_effects.items()),columns = ['c','count'])\n",
        "a = count.sort_values(by=['count'], ascending = False)\n",
        "a.head(5)\n",
        "labels = 'Pore-Care, Brightening, Anti-Aging','Anti-Aging','Acne-Free, Oil-Control, Pore-Care','Cleansing','Acne-Free, Pore-Care, Brightening, Anti-Aging'\n",
        "sizes = [count['count'].iloc[0],count['count'].iloc[1],count['count'].iloc[2],count['count'].iloc[3],count['count'].iloc[4]]\n",
        "explode = (0.1, 0.1, 0.1, 0.1,0.1)\n",
        "fig1 , ax1 = plt.subplots(figsize=(7,7))\n",
        "ax1.pie(sizes,\n",
        "        explode = explode,\n",
        "        labels = labels,\n",
        "        autopct = '%1.1f%%',\n",
        "        shadow = True,\n",
        "        startangle = 0)\n",
        "plt.title(\"Top 5 Effects from Skincare Product\")\n",
        "ax1.axis ('equal')\n",
        "plt.show()"
      ],
      "metadata": {
        "colab": {
          "base_uri": "https://localhost:8080/",
          "height": 427
        },
        "id": "eUKpSGack0e0",
        "outputId": "ff64c6b7-9bdb-47d3-d32b-eb37cdbbe986"
      },
      "execution_count": 16,
      "outputs": [
        {
          "output_type": "display_data",
          "data": {
            "image/png": "[encoded data removed]",
            "text/plain": [
              "<Figure size 504x504 with 1 Axes>"
            ]
          },
          "metadata": {}
        }
      ]
    },
    {
      "cell_type": "code",
      "source": [
        "plt.subplots(figsize=(10,5))\n",
        "sns.countplot(skincare['tipe_produk'].sort_values())\n",
        "plt.xlabel('tipe_produk')\n",
        "plt.ylabel('Count')\n",
        "plt.title('Product Type')\n",
        "\n",
        "plt.show()"
      ],
      "metadata": {
        "colab": {
          "base_uri": "https://localhost:8080/",
          "height": 440
        },
        "id": "B2XQ71aJjhiK",
        "outputId": "a559c2c2-0729-45d5-b802-f1ff8e097161"
      },
      "execution_count": 17,
      "outputs": [
        {
          "output_type": "stream",
          "name": "stderr",
          "text": [
            "/usr/local/lib/python3.7/dist-packages/seaborn/_decorators.py:43: FutureWarning:\n",
            "\n",
            "Pass the following variable as a keyword arg: x. From version 0.12, the only valid positional argument will be `data`, and passing other arguments without an explicit keyword will result in an error or misinterpretation.\n",
            "\n"
          ]
        },
        {
          "output_type": "display_data",
          "data": {
            "image/png": "[encoded data removed]",
            "text/plain": [
              "<Figure size 720x360 with 1 Axes>"
            ]
          },
          "metadata": {
            "needs_background": "light"
          }
        }
      ]
    },
    {
      "cell_type": "code",
      "source": [
        "# Checking null value \n",
        "\n",
        "skincare.isnull().sum()"
      ],
      "metadata": {
        "colab": {
          "base_uri": "https://localhost:8080/"
        },
        "id": "ibBaKOcrkHA2",
        "outputId": "42cc03c2-8abf-4543-92ad-6785873e058e"
      },
      "execution_count": 18,
      "outputs": [
        {
          "output_type": "execute_result",
          "data": {
            "text/plain": [
              "produk-href        0\n",
              "product_name       0\n",
              "price              0\n",
              "description        0\n",
              "notable_effects    0\n",
              "skintype           3\n",
              "picture_src        0\n",
              "tipe_produk        0\n",
              "labels             0\n",
              "dtype: int64"
            ]
          },
          "metadata": {},
          "execution_count": 18
        }
      ]
    },
    {
      "cell_type": "code",
      "source": [
        "# Visualize the missing values in the dataframe\n",
        "\n",
        "mno.matrix(skincare)"
      ],
      "metadata": {
        "colab": {
          "base_uri": "https://localhost:8080/",
          "height": 602
        },
        "id": "0LEybEPgkOTq",
        "outputId": "1cff70fc-4a36-4d77-de70-4eb3c48f0d83"
      },
      "execution_count": 20,
      "outputs": [
        {
          "output_type": "execute_result",
          "data": {
            "text/plain": [
              "<matplotlib.axes._subplots.AxesSubplot at 0x7fa8f23be350>"
            ]
          },
          "metadata": {},
          "execution_count": 20
        },
        {
          "output_type": "display_data",
          "data": {
            "image/png": "[encoded data removed]",
            "text/plain": [
              "<Figure size 1800x720 with 2 Axes>"
            ]
          },
          "metadata": {
            "needs_background": "light"
          }
        }
      ]
    },
    {
      "cell_type": "code",
      "source": [
        "# Checking the existence of duplicated rows\n",
        "\n",
        "skincare.duplicated().sum()"
      ],
      "metadata": {
        "colab": {
          "base_uri": "https://localhost:8080/"
        },
        "id": "JwnHPOOokS5G",
        "outputId": "9b8fd808-215e-49bb-dfc3-1da34cefe222"
      },
      "execution_count": 21,
      "outputs": [
        {
          "output_type": "execute_result",
          "data": {
            "text/plain": [
              "2"
            ]
          },
          "metadata": {},
          "execution_count": 21
        }
      ]
    },
    {
      "cell_type": "markdown",
      "source": [
        "# Data Cleaning"
      ],
      "metadata": {
        "id": "Gh9i6gTUp2XH"
      }
    },
    {
      "cell_type": "code",
      "source": [
        "# Remove duplicated rows (2 in total)\n",
        "\n",
        "skincare.drop_duplicates(inplace=True)\n",
        "\n",
        "# Replacing the missing values\"\n",
        "\n",
        "skincare[\"skintype\"].fillna(\"Dry, Oily, Combination\", inplace=True)"
      ],
      "metadata": {
        "id": "Xd90ghGGp5Y0"
      },
      "execution_count": 22,
      "outputs": []
    },
    {
      "cell_type": "code",
      "source": [
        "# Re-checking null value \n",
        "\n",
        "skincare.isnull().sum()\n",
        "\n",
        "# Re-hecking the existence of duplicated rows\n",
        "\n",
        "skincare.duplicated().sum()"
      ],
      "metadata": {
        "colab": {
          "base_uri": "https://localhost:8080/"
        },
        "id": "al3AOz2sqDxP",
        "outputId": "f2260319-ba81-4b66-a4d0-7046e2723306"
      },
      "execution_count": 23,
      "outputs": [
        {
          "output_type": "execute_result",
          "data": {
            "text/plain": [
              "0"
            ]
          },
          "metadata": {},
          "execution_count": 23
        }
      ]
    },
    {
      "cell_type": "code",
      "source": [
        "skincare.head(10)"
      ],
      "metadata": {
        "colab": {
          "base_uri": "https://localhost:8080/",
          "height": 1000
        },
        "id": "6yP2oaeNq7f_",
        "outputId": "282d19ea-1d2c-444e-eb28-8ce890ea5bac"
      },
      "execution_count": 24,
      "outputs": [
        {
          "output_type": "execute_result",
          "data": {
            "text/html": [
              "<div>\n",
              "<style scoped>\n",
              "    .dataframe tbody tr th:only-of-type {\n",
              "        vertical-align: middle;\n",
              "    }\n",
              "\n",
              "    .dataframe tbody tr th {\n",
              "        vertical-align: top;\n",
              "    }\n",
              "\n",
              "    .dataframe thead th {\n",
              "        text-align: right;\n",
              "    }\n",
              "</style>\n",
              "<table border=\"1\" class=\"dataframe\">\n",
              "  <thead>\n",
              "    <tr style=\"text-align: right;\">\n",
              "      <th></th>\n",
              "      <th>produk-href</th>\n",
              "      <th>product_name</th>\n",
              "      <th>price</th>\n",
              "      <th>description</th>\n",
              "      <th>notable_effects</th>\n",
              "      <th>skintype</th>\n",
              "      <th>picture_src</th>\n",
              "      <th>tipe_produk</th>\n",
              "      <th>labels</th>\n",
              "    </tr>\n",
              "  </thead>\n",
              "  <tbody>\n",
              "    <tr>\n",
              "      <th>0</th>\n",
              "      <td>https://www.beautyhaul.com/product/detail/acne...</td>\n",
              "      <td>Acne Gentle Cleansing Foam</td>\n",
              "      <td>Rp 35.000</td>\n",
              "      <td>Pembersih wajah bebas minyak untuk kulit BERJE...</td>\n",
              "      <td>Acne-Free, Oil-Control, Pore-Care</td>\n",
              "      <td>Dry</td>\n",
              "      <td>https://www.beautyhaul.com/assets/uploads/prod...</td>\n",
              "      <td>facewash</td>\n",
              "      <td>3</td>\n",
              "    </tr>\n",
              "    <tr>\n",
              "      <th>1</th>\n",
              "      <td>https://www.beautyhaul.com/product/detail/aloe...</td>\n",
              "      <td>Natur Aloe Mild Cleanser</td>\n",
              "      <td>Rp 79.000</td>\n",
              "      <td>Natur Aloe Mild Cleanser dengan brush yang lem...</td>\n",
              "      <td>Pore-Care, Brightening, Anti-Aging</td>\n",
              "      <td>Dry, Oily, Sensitive</td>\n",
              "      <td>https://www.beautyhaul.com/assets/uploads/prod...</td>\n",
              "      <td>facewash</td>\n",
              "      <td>18</td>\n",
              "    </tr>\n",
              "    <tr>\n",
              "      <th>2</th>\n",
              "      <td>https://www.beautyhaul.com/product/detail/acne...</td>\n",
              "      <td>Acne Care Lab Cleanser Scrub</td>\n",
              "      <td>Rp 104.500</td>\n",
              "      <td>Acne Care Lab Acne Cleanser Scrub Beta Plus (A...</td>\n",
              "      <td>Acne-Free</td>\n",
              "      <td>Dry</td>\n",
              "      <td>https://www.beautyhaul.com/assets/uploads/prod...</td>\n",
              "      <td>facewash</td>\n",
              "      <td>0</td>\n",
              "    </tr>\n",
              "    <tr>\n",
              "      <th>3</th>\n",
              "      <td>https://www.beautyhaul.com/product/detail/brig...</td>\n",
              "      <td>Brightening Facial Cleanser</td>\n",
              "      <td>Rp 35.000</td>\n",
              "      <td>Pembersih wajah yang segar, lembut dan creamy ...</td>\n",
              "      <td>Acne-Free, Pore-Care, Brightening, Anti-Aging</td>\n",
              "      <td>Dry, Oily, Sensitive</td>\n",
              "      <td>https://www.beautyhaul.com/assets/uploads/prod...</td>\n",
              "      <td>facewash</td>\n",
              "      <td>4</td>\n",
              "    </tr>\n",
              "    <tr>\n",
              "      <th>4</th>\n",
              "      <td>https://www.beautyhaul.com/product/detail/pome...</td>\n",
              "      <td>Natur Pome Mild Cleanser</td>\n",
              "      <td>Rp 79.000</td>\n",
              "      <td>Natur Pome Mild Cleanser dengan brush yang lem...</td>\n",
              "      <td>Pore-Care, Brightening, Anti-Aging</td>\n",
              "      <td>Dry, Oily, Sensitive</td>\n",
              "      <td>https://www.beautyhaul.com/assets/uploads/prod...</td>\n",
              "      <td>facewash</td>\n",
              "      <td>18</td>\n",
              "    </tr>\n",
              "    <tr>\n",
              "      <th>5</th>\n",
              "      <td>https://www.beautyhaul.com/product/detail/gent...</td>\n",
              "      <td>FSS Gentle Cleansing Foam Refill</td>\n",
              "      <td>Rp 100.000</td>\n",
              "      <td>FSS Gentle Cleansing Foam tersedia dalam kanto...</td>\n",
              "      <td>Anti-Aging</td>\n",
              "      <td>Dry</td>\n",
              "      <td>https://www.beautyhaul.com/assets/uploads/prod...</td>\n",
              "      <td>facewash</td>\n",
              "      <td>5</td>\n",
              "    </tr>\n",
              "    <tr>\n",
              "      <th>6</th>\n",
              "      <td>https://www.beautyhaul.com/product/detail/c-wh...</td>\n",
              "      <td>C White Lightening Tone Up Body Serum</td>\n",
              "      <td>Rp 47.000</td>\n",
              "      <td>Serum ringan untuk tubuh agar tampak lebih cer...</td>\n",
              "      <td>Pore-Care, Brightening, Anti-Aging</td>\n",
              "      <td>Dry</td>\n",
              "      <td>https://www.beautyhaul.com/assets/uploads/prod...</td>\n",
              "      <td>facewash</td>\n",
              "      <td>18</td>\n",
              "    </tr>\n",
              "    <tr>\n",
              "      <th>7</th>\n",
              "      <td>https://www.beautyhaul.com/product/detail/cica...</td>\n",
              "      <td>Natur Cica Mild Cleanser</td>\n",
              "      <td>Rp 79.000</td>\n",
              "      <td>Natur Cica Mild Cleanser dengan brush yang lem...</td>\n",
              "      <td>Pore-Care, Brightening, Anti-Aging</td>\n",
              "      <td>Dry, Oily, Sensitive</td>\n",
              "      <td>https://www.beautyhaul.com/assets/uploads/prod...</td>\n",
              "      <td>facewash</td>\n",
              "      <td>18</td>\n",
              "    </tr>\n",
              "    <tr>\n",
              "      <th>8</th>\n",
              "      <td>https://www.beautyhaul.com/product/detail/foam...</td>\n",
              "      <td>Foamwork PH 50-60 Foaming Cleanser</td>\n",
              "      <td>Rp 109.000</td>\n",
              "      <td>Self-foaming cleanser (pH = 5.0-6.0) 100ml Dib...</td>\n",
              "      <td>Anti-Aging</td>\n",
              "      <td>Oily</td>\n",
              "      <td>https://www.beautyhaul.com/assets/uploads/prod...</td>\n",
              "      <td>facewash</td>\n",
              "      <td>5</td>\n",
              "    </tr>\n",
              "    <tr>\n",
              "      <th>9</th>\n",
              "      <td>https://www.beautyhaul.com/product/detail/gott...</td>\n",
              "      <td>Gotta Smooth Gentle Exfoliating Cleanser</td>\n",
              "      <td>Rp 140.000</td>\n",
              "      <td>Pembersih wajah dengan tekstur gel yang dapat ...</td>\n",
              "      <td>Acne-Free, Oil-Control, Pore-Care</td>\n",
              "      <td>Dry</td>\n",
              "      <td>https://www.beautyhaul.com/assets/uploads/prod...</td>\n",
              "      <td>facewash</td>\n",
              "      <td>3</td>\n",
              "    </tr>\n",
              "  </tbody>\n",
              "</table>\n",
              "</div>"
            ],
            "text/plain": [
              "                                         produk-href  ... labels\n",
              "0  https://www.beautyhaul.com/product/detail/acne...  ...      3\n",
              "1  https://www.beautyhaul.com/product/detail/aloe...  ...     18\n",
              "2  https://www.beautyhaul.com/product/detail/acne...  ...      0\n",
              "3  https://www.beautyhaul.com/product/detail/brig...  ...      4\n",
              "4  https://www.beautyhaul.com/product/detail/pome...  ...     18\n",
              "5  https://www.beautyhaul.com/product/detail/gent...  ...      5\n",
              "6  https://www.beautyhaul.com/product/detail/c-wh...  ...     18\n",
              "7  https://www.beautyhaul.com/product/detail/cica...  ...     18\n",
              "8  https://www.beautyhaul.com/product/detail/foam...  ...      5\n",
              "9  https://www.beautyhaul.com/product/detail/gott...  ...      3\n",
              "\n",
              "[10 rows x 9 columns]"
            ]
          },
          "metadata": {},
          "execution_count": 24
        }
      ]
    },
    {
      "cell_type": "markdown",
      "source": [
        "# Data Preparation"
      ],
      "metadata": {
        "id": "DbFNE2nXKwYZ"
      }
    },
    {
      "cell_type": "markdown",
      "source": [
        "## Encoding each skintypes"
      ],
      "metadata": {
        "id": "8wj4gtgiikmW"
      }
    },
    {
      "cell_type": "code",
      "source": [
        "# treat null values\n",
        "skincare['skintype'].fillna('NA', inplace = True)\n",
        "\n",
        "# separate all skintype into one list, considering comma + space as separators\n",
        "skintype = skincare['skintype'].str.split(', ').tolist()\n",
        "\n",
        "# flatten the list\n",
        "flat_skintype = [item for sublist in skintype for item in sublist]\n",
        "\n",
        "# convert to a set to make unique\n",
        "set_skintype = set(flat_skintype)\n",
        "\n",
        "# back to list\n",
        "unique_skintype = list(set_skintype)\n",
        "\n",
        "# create columns by each unique skintype\n",
        "skincare = skincare.reindex(skincare.columns.tolist() + unique_skintype, axis=1, fill_value=0)\n",
        "\n",
        "# for each value inside column, update the dummy\n",
        "for index, row in skincare.iterrows():\n",
        "    for val in row.skintype.split(', '):\n",
        "        if val != 'NA':\n",
        "            skincare.loc[index, val] = 1\n",
        "\n",
        "skincare.drop('skintype', axis = 1, inplace = True)    \n",
        "skincare"
      ],
      "metadata": {
        "colab": {
          "base_uri": "https://localhost:8080/",
          "height": 1000
        },
        "id": "yo6Lf-crkafr",
        "outputId": "339984c0-a6c7-474e-9ebb-d70e5df58aa0"
      },
      "execution_count": 25,
      "outputs": [
        {
          "output_type": "execute_result",
          "data": {
            "text/html": [
              "<div>\n",
              "<style scoped>\n",
              "    .dataframe tbody tr th:only-of-type {\n",
              "        vertical-align: middle;\n",
              "    }\n",
              "\n",
              "    .dataframe tbody tr th {\n",
              "        vertical-align: top;\n",
              "    }\n",
              "\n",
              "    .dataframe thead th {\n",
              "        text-align: right;\n",
              "    }\n",
              "</style>\n",
              "<table border=\"1\" class=\"dataframe\">\n",
              "  <thead>\n",
              "    <tr style=\"text-align: right;\">\n",
              "      <th></th>\n",
              "      <th>produk-href</th>\n",
              "      <th>product_name</th>\n",
              "      <th>price</th>\n",
              "      <th>description</th>\n",
              "      <th>notable_effects</th>\n",
              "      <th>picture_src</th>\n",
              "      <th>tipe_produk</th>\n",
              "      <th>labels</th>\n",
              "      <th>Sensitive</th>\n",
              "      <th>Dry</th>\n",
              "      <th>Combination</th>\n",
              "      <th>Normal</th>\n",
              "      <th>Oily</th>\n",
              "    </tr>\n",
              "  </thead>\n",
              "  <tbody>\n",
              "    <tr>\n",
              "      <th>0</th>\n",
              "      <td>https://www.beautyhaul.com/product/detail/acne...</td>\n",
              "      <td>Acne Gentle Cleansing Foam</td>\n",
              "      <td>Rp 35.000</td>\n",
              "      <td>Pembersih wajah bebas minyak untuk kulit BERJE...</td>\n",
              "      <td>Acne-Free, Oil-Control, Pore-Care</td>\n",
              "      <td>https://www.beautyhaul.com/assets/uploads/prod...</td>\n",
              "      <td>facewash</td>\n",
              "      <td>3</td>\n",
              "      <td>0</td>\n",
              "      <td>1</td>\n",
              "      <td>0</td>\n",
              "      <td>0</td>\n",
              "      <td>0</td>\n",
              "    </tr>\n",
              "    <tr>\n",
              "      <th>1</th>\n",
              "      <td>https://www.beautyhaul.com/product/detail/aloe...</td>\n",
              "      <td>Natur Aloe Mild Cleanser</td>\n",
              "      <td>Rp 79.000</td>\n",
              "      <td>Natur Aloe Mild Cleanser dengan brush yang lem...</td>\n",
              "      <td>Pore-Care, Brightening, Anti-Aging</td>\n",
              "      <td>https://www.beautyhaul.com/assets/uploads/prod...</td>\n",
              "      <td>facewash</td>\n",
              "      <td>18</td>\n",
              "      <td>1</td>\n",
              "      <td>1</td>\n",
              "      <td>0</td>\n",
              "      <td>0</td>\n",
              "      <td>1</td>\n",
              "    </tr>\n",
              "    <tr>\n",
              "      <th>2</th>\n",
              "      <td>https://www.beautyhaul.com/product/detail/acne...</td>\n",
              "      <td>Acne Care Lab Cleanser Scrub</td>\n",
              "      <td>Rp 104.500</td>\n",
              "      <td>Acne Care Lab Acne Cleanser Scrub Beta Plus (A...</td>\n",
              "      <td>Acne-Free</td>\n",
              "      <td>https://www.beautyhaul.com/assets/uploads/prod...</td>\n",
              "      <td>facewash</td>\n",
              "      <td>0</td>\n",
              "      <td>0</td>\n",
              "      <td>1</td>\n",
              "      <td>0</td>\n",
              "      <td>0</td>\n",
              "      <td>0</td>\n",
              "    </tr>\n",
              "    <tr>\n",
              "      <th>3</th>\n",
              "      <td>https://www.beautyhaul.com/product/detail/brig...</td>\n",
              "      <td>Brightening Facial Cleanser</td>\n",
              "      <td>Rp 35.000</td>\n",
              "      <td>Pembersih wajah yang segar, lembut dan creamy ...</td>\n",
              "      <td>Acne-Free, Pore-Care, Brightening, Anti-Aging</td>\n",
              "      <td>https://www.beautyhaul.com/assets/uploads/prod...</td>\n",
              "      <td>facewash</td>\n",
              "      <td>4</td>\n",
              "      <td>1</td>\n",
              "      <td>1</td>\n",
              "      <td>0</td>\n",
              "      <td>0</td>\n",
              "      <td>1</td>\n",
              "    </tr>\n",
              "    <tr>\n",
              "      <th>4</th>\n",
              "      <td>https://www.beautyhaul.com/product/detail/pome...</td>\n",
              "      <td>Natur Pome Mild Cleanser</td>\n",
              "      <td>Rp 79.000</td>\n",
              "      <td>Natur Pome Mild Cleanser dengan brush yang lem...</td>\n",
              "      <td>Pore-Care, Brightening, Anti-Aging</td>\n",
              "      <td>https://www.beautyhaul.com/assets/uploads/prod...</td>\n",
              "      <td>facewash</td>\n",
              "      <td>18</td>\n",
              "      <td>1</td>\n",
              "      <td>1</td>\n",
              "      <td>0</td>\n",
              "      <td>0</td>\n",
              "      <td>1</td>\n",
              "    </tr>\n",
              "    <tr>\n",
              "      <th>...</th>\n",
              "      <td>...</td>\n",
              "      <td>...</td>\n",
              "      <td>...</td>\n",
              "      <td>...</td>\n",
              "      <td>...</td>\n",
              "      <td>...</td>\n",
              "      <td>...</td>\n",
              "      <td>...</td>\n",
              "      <td>...</td>\n",
              "      <td>...</td>\n",
              "      <td>...</td>\n",
              "      <td>...</td>\n",
              "      <td>...</td>\n",
              "    </tr>\n",
              "    <tr>\n",
              "      <th>1029</th>\n",
              "      <td>https://www.sociolla.com/sunscreen/51163-prote...</td>\n",
              "      <td>Pond's Protecting Day Cream Sunscreen Skin Pro...</td>\n",
              "      <td>Rp 26.400</td>\n",
              "      <td>POND’S Skin Protect Protecting Day Cream Tahuk...</td>\n",
              "      <td>Moisturizing, UV-Protection</td>\n",
              "      <td>https://www.soco.id/cdn-cgi/image/w=73,format=...</td>\n",
              "      <td>sunscreen</td>\n",
              "      <td>16</td>\n",
              "      <td>1</td>\n",
              "      <td>1</td>\n",
              "      <td>1</td>\n",
              "      <td>1</td>\n",
              "      <td>1</td>\n",
              "    </tr>\n",
              "    <tr>\n",
              "      <th>1030</th>\n",
              "      <td>https://www.sociolla.com/sunscreen/16938-weigh...</td>\n",
              "      <td>For Skins Sake Weightless Sunscreen</td>\n",
              "      <td>Rp 40.000</td>\n",
              "      <td>This is the mini version of the FSS Weightless...</td>\n",
              "      <td>UV-Protection, No-Whitecast</td>\n",
              "      <td>https://s3-ap-southeast-1.amazonaws.com/img-so...</td>\n",
              "      <td>sunscreen</td>\n",
              "      <td>23</td>\n",
              "      <td>1</td>\n",
              "      <td>1</td>\n",
              "      <td>1</td>\n",
              "      <td>1</td>\n",
              "      <td>1</td>\n",
              "    </tr>\n",
              "    <tr>\n",
              "      <th>1031</th>\n",
              "      <td>https://www.sociolla.com/sunscreen/12298-papay...</td>\n",
              "      <td>Benton Papaya S-Sun Cream</td>\n",
              "      <td>Rp 330.000</td>\n",
              "      <td>Papaya S-Sun Cream adalah suncream fisika dan ...</td>\n",
              "      <td>Brightening, UV-Protection</td>\n",
              "      <td>https://s3-ap-southeast-1.amazonaws.com/img-so...</td>\n",
              "      <td>sunscreen</td>\n",
              "      <td>10</td>\n",
              "      <td>1</td>\n",
              "      <td>1</td>\n",
              "      <td>1</td>\n",
              "      <td>1</td>\n",
              "      <td>1</td>\n",
              "    </tr>\n",
              "    <tr>\n",
              "      <th>1032</th>\n",
              "      <td>https://www.sociolla.com/sunscreen/47934-kem-c...</td>\n",
              "      <td>Innisfree Intensive Leisure Sunscreen Stick SP...</td>\n",
              "      <td>Rp 270.000</td>\n",
              "      <td>Stik tabir surya yang tahan air dan keringat, ...</td>\n",
              "      <td>UV-Protection</td>\n",
              "      <td>https://www.soco.id/cdn-cgi/image/w=73,format=...</td>\n",
              "      <td>sunscreen</td>\n",
              "      <td>22</td>\n",
              "      <td>1</td>\n",
              "      <td>1</td>\n",
              "      <td>1</td>\n",
              "      <td>1</td>\n",
              "      <td>1</td>\n",
              "    </tr>\n",
              "    <tr>\n",
              "      <th>1033</th>\n",
              "      <td>https://www.sociolla.com/sun-care/25601-sfs-lx...</td>\n",
              "      <td>Shiseido Future Solution LX Universal Defense E</td>\n",
              "      <td>Rp 1.200.000</td>\n",
              "      <td>Pelembut wajah yang membantu mencegah munculny...</td>\n",
              "      <td>UV-Protection, No-Whitecast</td>\n",
              "      <td>https://www.soco.id/cdn-cgi/image/w=73,format=...</td>\n",
              "      <td>sunscreen</td>\n",
              "      <td>23</td>\n",
              "      <td>1</td>\n",
              "      <td>1</td>\n",
              "      <td>1</td>\n",
              "      <td>1</td>\n",
              "      <td>1</td>\n",
              "    </tr>\n",
              "  </tbody>\n",
              "</table>\n",
              "<p>1032 rows × 13 columns</p>\n",
              "</div>"
            ],
            "text/plain": [
              "                                            produk-href  ... Oily\n",
              "0     https://www.beautyhaul.com/product/detail/acne...  ...    0\n",
              "1     https://www.beautyhaul.com/product/detail/aloe...  ...    1\n",
              "2     https://www.beautyhaul.com/product/detail/acne...  ...    0\n",
              "3     https://www.beautyhaul.com/product/detail/brig...  ...    1\n",
              "4     https://www.beautyhaul.com/product/detail/pome...  ...    1\n",
              "...                                                 ...  ...  ...\n",
              "1029  https://www.sociolla.com/sunscreen/51163-prote...  ...    1\n",
              "1030  https://www.sociolla.com/sunscreen/16938-weigh...  ...    1\n",
              "1031  https://www.sociolla.com/sunscreen/12298-papay...  ...    1\n",
              "1032  https://www.sociolla.com/sunscreen/47934-kem-c...  ...    1\n",
              "1033  https://www.sociolla.com/sun-care/25601-sfs-lx...  ...    1\n",
              "\n",
              "[1032 rows x 13 columns]"
            ]
          },
          "metadata": {},
          "execution_count": 25
        }
      ]
    },
    {
      "cell_type": "markdown",
      "source": [
        "# Modelling"
      ],
      "metadata": {
        "id": "5Inv5T4mQEIu"
      }
    },
    {
      "cell_type": "markdown",
      "source": [
        "## Applying NLP concept"
      ],
      "metadata": {
        "id": "uLe7SQNC4aBy"
      }
    },
    {
      "cell_type": "markdown",
      "source": [
        "The map we’re making is the plot with an optional choice so that the users can get a more detailed result. There are going to be two kinds of options. One for the categories of product type such as moisturizer and sunscreen. The other for the skin types of users such as dry and oily. For make it clear, let’s focus on an option for “moisturizers for dry skin type” first and then apply the same process to other options later."
      ],
      "metadata": {
        "id": "C9i0szM84HkB"
      }
    },
    {
      "cell_type": "code",
      "source": [
        "# Filter for moisturizers\n",
        "moisturizers = skincare[skincare['tipe_produk'] == 'moisturizer']\n",
        "\n",
        "# Filter for dry skin as well\n",
        "moisturizers_dry = moisturizers[moisturizers['Dry'] == 1]\n",
        "\n",
        "# Reset index\n",
        "moisturizers_dry = moisturizers_dry.reset_index(drop=True)"
      ],
      "metadata": {
        "id": "CG4F-Pq98PBq"
      },
      "execution_count": 26,
      "outputs": []
    },
    {
      "cell_type": "code",
      "source": [
        "moisturizers"
      ],
      "metadata": {
        "colab": {
          "base_uri": "https://localhost:8080/",
          "height": 1000
        },
        "id": "asfta9Vid8h2",
        "outputId": "0474aa80-0ae9-473b-ab1f-5170ba2509cb"
      },
      "execution_count": 27,
      "outputs": [
        {
          "output_type": "execute_result",
          "data": {
            "text/html": [
              "<div>\n",
              "<style scoped>\n",
              "    .dataframe tbody tr th:only-of-type {\n",
              "        vertical-align: middle;\n",
              "    }\n",
              "\n",
              "    .dataframe tbody tr th {\n",
              "        vertical-align: top;\n",
              "    }\n",
              "\n",
              "    .dataframe thead th {\n",
              "        text-align: right;\n",
              "    }\n",
              "</style>\n",
              "<table border=\"1\" class=\"dataframe\">\n",
              "  <thead>\n",
              "    <tr style=\"text-align: right;\">\n",
              "      <th></th>\n",
              "      <th>produk-href</th>\n",
              "      <th>product_name</th>\n",
              "      <th>price</th>\n",
              "      <th>description</th>\n",
              "      <th>notable_effects</th>\n",
              "      <th>picture_src</th>\n",
              "      <th>tipe_produk</th>\n",
              "      <th>labels</th>\n",
              "      <th>Sensitive</th>\n",
              "      <th>Dry</th>\n",
              "      <th>Combination</th>\n",
              "      <th>Normal</th>\n",
              "      <th>Oily</th>\n",
              "    </tr>\n",
              "  </thead>\n",
              "  <tbody>\n",
              "    <tr>\n",
              "      <th>632</th>\n",
              "      <td>https://www.beautyhaul.com/product/detail/firs...</td>\n",
              "      <td>FIRST LAB Probiotic Cream</td>\n",
              "      <td>Rp 270.600</td>\n",
              "      <td>All FIRST LAB's Skincare are using a Patented ...</td>\n",
              "      <td>Pore-Care, Brightening, Anti-Aging</td>\n",
              "      <td>https://www.beautyhaul.com/assets/uploads/prod...</td>\n",
              "      <td>moisturizer</td>\n",
              "      <td>18</td>\n",
              "      <td>1</td>\n",
              "      <td>0</td>\n",
              "      <td>0</td>\n",
              "      <td>0</td>\n",
              "      <td>0</td>\n",
              "    </tr>\n",
              "    <tr>\n",
              "      <th>633</th>\n",
              "      <td>https://www.beautyhaul.com/product/detail/day-...</td>\n",
              "      <td>NPURE Day &amp; Night Treatment</td>\n",
              "      <td>Rp 200.000</td>\n",
              "      <td>Rangkaian Cica Day Cream (With Uv Protection S...</td>\n",
              "      <td>Pore-Care, Brightening, Anti-Aging</td>\n",
              "      <td>https://www.beautyhaul.com/assets/uploads/prod...</td>\n",
              "      <td>moisturizer</td>\n",
              "      <td>18</td>\n",
              "      <td>1</td>\n",
              "      <td>0</td>\n",
              "      <td>0</td>\n",
              "      <td>0</td>\n",
              "      <td>0</td>\n",
              "    </tr>\n",
              "    <tr>\n",
              "      <th>634</th>\n",
              "      <td>https://www.beautyhaul.com/product/detail/comf...</td>\n",
              "      <td>HALE Comfort Zone</td>\n",
              "      <td>Rp 129.000</td>\n",
              "      <td>Fast-absorbing moisturizer that soothes irrita...</td>\n",
              "      <td>Soothing, Brightening</td>\n",
              "      <td>https://www.beautyhaul.com/assets/uploads/prod...</td>\n",
              "      <td>moisturizer</td>\n",
              "      <td>20</td>\n",
              "      <td>1</td>\n",
              "      <td>0</td>\n",
              "      <td>0</td>\n",
              "      <td>0</td>\n",
              "      <td>0</td>\n",
              "    </tr>\n",
              "    <tr>\n",
              "      <th>635</th>\n",
              "      <td>https://www.beautyhaul.com/product/detail/m-ma...</td>\n",
              "      <td>M+ Madecassoside Cica Cream</td>\n",
              "      <td>Rp 295.000</td>\n",
              "      <td>Charis M+ Madecassoside Cica Cream Solusi untu...</td>\n",
              "      <td>Pore-Care, Brightening, Anti-Aging</td>\n",
              "      <td>https://www.beautyhaul.com/assets/uploads/prod...</td>\n",
              "      <td>moisturizer</td>\n",
              "      <td>18</td>\n",
              "      <td>1</td>\n",
              "      <td>0</td>\n",
              "      <td>0</td>\n",
              "      <td>0</td>\n",
              "      <td>0</td>\n",
              "    </tr>\n",
              "    <tr>\n",
              "      <th>636</th>\n",
              "      <td>https://www.beautyhaul.com/product/detail/acne...</td>\n",
              "      <td>CHARIS ACNECORE+ Clear AC Everyday Moisturizer</td>\n",
              "      <td>Rp 99.000</td>\n",
              "      <td>Pelembab wajah untuk kulit berjerawat &amp; berpor...</td>\n",
              "      <td>UV-Protection</td>\n",
              "      <td>https://www.beautyhaul.com/assets/uploads/prod...</td>\n",
              "      <td>moisturizer</td>\n",
              "      <td>22</td>\n",
              "      <td>0</td>\n",
              "      <td>0</td>\n",
              "      <td>0</td>\n",
              "      <td>0</td>\n",
              "      <td>1</td>\n",
              "    </tr>\n",
              "    <tr>\n",
              "      <th>...</th>\n",
              "      <td>...</td>\n",
              "      <td>...</td>\n",
              "      <td>...</td>\n",
              "      <td>...</td>\n",
              "      <td>...</td>\n",
              "      <td>...</td>\n",
              "      <td>...</td>\n",
              "      <td>...</td>\n",
              "      <td>...</td>\n",
              "      <td>...</td>\n",
              "      <td>...</td>\n",
              "      <td>...</td>\n",
              "      <td>...</td>\n",
              "    </tr>\n",
              "    <tr>\n",
              "      <th>839</th>\n",
              "      <td>https://www.sociolla.com/face-cream-lotion/166...</td>\n",
              "      <td>The Aubree Even Brighter Day Cream</td>\n",
              "      <td>Rp. 99.000</td>\n",
              "      <td>Krim dengan kemampuan membantu mencerahkan dan...</td>\n",
              "      <td>Moisturizing, UV-Protection</td>\n",
              "      <td>https://s3-ap-southeast-1.amazonaws.com/img-so...</td>\n",
              "      <td>moisturizer</td>\n",
              "      <td>16</td>\n",
              "      <td>1</td>\n",
              "      <td>1</td>\n",
              "      <td>1</td>\n",
              "      <td>1</td>\n",
              "      <td>1</td>\n",
              "    </tr>\n",
              "    <tr>\n",
              "      <th>840</th>\n",
              "      <td>https://www.sociolla.com/face-cream-lotion/550...</td>\n",
              "      <td>Scarlett Whitening Scarlett Whitening Acne Day...</td>\n",
              "      <td>Rp 82.500</td>\n",
              "      <td>Didalam Acne Day Cream terdapat kandungan Doub...</td>\n",
              "      <td>Moisturizing</td>\n",
              "      <td>https://www.soco.id/cdn-cgi/image/w=73,format=...</td>\n",
              "      <td>moisturizer</td>\n",
              "      <td>14</td>\n",
              "      <td>0</td>\n",
              "      <td>0</td>\n",
              "      <td>0</td>\n",
              "      <td>0</td>\n",
              "      <td>1</td>\n",
              "    </tr>\n",
              "    <tr>\n",
              "      <th>841</th>\n",
              "      <td>https://www.sociolla.com/face-gel/27920-waterm...</td>\n",
              "      <td>Dear Me Beauty Watermelon Multipurpose Gel</td>\n",
              "      <td>Rp 79.000</td>\n",
              "      <td>Experience instant boost of hydration with Wat...</td>\n",
              "      <td>Anti-Aging</td>\n",
              "      <td>https://www.soco.id/cdn-cgi/image/w=73,format=...</td>\n",
              "      <td>moisturizer</td>\n",
              "      <td>5</td>\n",
              "      <td>1</td>\n",
              "      <td>1</td>\n",
              "      <td>1</td>\n",
              "      <td>1</td>\n",
              "      <td>1</td>\n",
              "    </tr>\n",
              "    <tr>\n",
              "      <th>842</th>\n",
              "      <td>https://www.sociolla.com/face-gel/10871-ms-pim...</td>\n",
              "      <td>Emina Ms Pimple Acne Solution Moisturizing Gel</td>\n",
              "      <td>Rp 24.000</td>\n",
              "      <td>Emina Ms Pimple Acne Solution Series merupakan...</td>\n",
              "      <td>Acne-Free, Oil-Control, Pore-Care</td>\n",
              "      <td>https://s3-ap-southeast-1.amazonaws.com/img-so...</td>\n",
              "      <td>moisturizer</td>\n",
              "      <td>3</td>\n",
              "      <td>0</td>\n",
              "      <td>0</td>\n",
              "      <td>0</td>\n",
              "      <td>0</td>\n",
              "      <td>1</td>\n",
              "    </tr>\n",
              "    <tr>\n",
              "      <th>843</th>\n",
              "      <td>https://www.sociolla.com/face-gel/11038-medihe...</td>\n",
              "      <td>Mediheal Mediheal Aloe Vera Hydrogel</td>\n",
              "      <td>Rp 69.000</td>\n",
              "      <td>Menghidrasi, menenangkan dan mengembalikan ela...</td>\n",
              "      <td>Hydrating, Moisturizing</td>\n",
              "      <td>https://s3-ap-southeast-1.amazonaws.com/img-so...</td>\n",
              "      <td>moisturizer</td>\n",
              "      <td>12</td>\n",
              "      <td>0</td>\n",
              "      <td>1</td>\n",
              "      <td>0</td>\n",
              "      <td>1</td>\n",
              "      <td>0</td>\n",
              "    </tr>\n",
              "  </tbody>\n",
              "</table>\n",
              "<p>210 rows × 13 columns</p>\n",
              "</div>"
            ],
            "text/plain": [
              "                                           produk-href  ... Oily\n",
              "632  https://www.beautyhaul.com/product/detail/firs...  ...    0\n",
              "633  https://www.beautyhaul.com/product/detail/day-...  ...    0\n",
              "634  https://www.beautyhaul.com/product/detail/comf...  ...    0\n",
              "635  https://www.beautyhaul.com/product/detail/m-ma...  ...    0\n",
              "636  https://www.beautyhaul.com/product/detail/acne...  ...    1\n",
              "..                                                 ...  ...  ...\n",
              "839  https://www.sociolla.com/face-cream-lotion/166...  ...    1\n",
              "840  https://www.sociolla.com/face-cream-lotion/550...  ...    1\n",
              "841  https://www.sociolla.com/face-gel/27920-waterm...  ...    1\n",
              "842  https://www.sociolla.com/face-gel/10871-ms-pim...  ...    1\n",
              "843  https://www.sociolla.com/face-gel/11038-medihe...  ...    0\n",
              "\n",
              "[210 rows x 13 columns]"
            ]
          },
          "metadata": {},
          "execution_count": 27
        }
      ]
    },
    {
      "cell_type": "markdown",
      "source": [
        "## Tokenizing the list of notable_effects"
      ],
      "metadata": {
        "id": "4QcElBeVKlHP"
      }
    },
    {
      "cell_type": "code",
      "source": [
        "# Initialize dictionary, list, and initial index\n",
        "notable_effect_dict = {}\n",
        "corpus = []\n",
        "idx = 0\n",
        "\n",
        "# For loop for tokenization\n",
        "for i in range(len(moisturizers_dry)):    \n",
        "    notable_effects = moisturizers_dry['notable_effects'][i]\n",
        "    notable_effects_lower = notable_effects.lower()\n",
        "    tokens = notable_effects_lower.split(', ')\n",
        "    corpus.append(tokens)\n",
        "    for notable_effect in tokens:\n",
        "        if notable_effect not in notable_effect_dict:\n",
        "            notable_effect_dict[notable_effect] = idx\n",
        "            idx += 1\n",
        "            \n",
        "# Check the result \n",
        "print(\"The index for acne-free is\", notable_effect_dict['acne-free'])"
      ],
      "metadata": {
        "colab": {
          "base_uri": "https://localhost:8080/"
        },
        "id": "pCMtNTktKoDr",
        "outputId": "5782767a-2083-4185-bcf4-a93b3930eab0"
      },
      "execution_count": 28,
      "outputs": [
        {
          "output_type": "stream",
          "name": "stdout",
          "text": [
            "The index for acne-free is 6\n"
          ]
        }
      ]
    },
    {
      "cell_type": "code",
      "source": [
        "# Get the number of items and tokens \n",
        "M = moisturizers_dry.shape[0]              \n",
        "N = len(notable_effect_dict)     # The number of the notable_effect\n",
        "\n",
        "# Initialize a matrix of zeros\n",
        "A = np.zeros((M, N))"
      ],
      "metadata": {
        "id": "BbBj5MyzLZCv"
      },
      "execution_count": 29,
      "outputs": []
    },
    {
      "cell_type": "code",
      "source": [
        "# Define the one-hot encoding function\n",
        "def encoding(tokens):\n",
        "    x = np.zeros(A.shape[1])    \n",
        "    for notable_effect in tokens:\n",
        "        # Get the index for each notable_effect\n",
        "        idx = notable_effect_dict[notable_effect]\n",
        "        # Put 1 at the corresponding indices\n",
        "        x[idx] = 1\n",
        "    return x"
      ],
      "metadata": {
        "id": "BMaEaRn6Lkps"
      },
      "execution_count": 30,
      "outputs": []
    },
    {
      "cell_type": "code",
      "source": [
        "# Make a document-term matrix\n",
        "i = 0\n",
        "for tokens in corpus:\n",
        "    A[i, :] = encoding(tokens)\n",
        "    i += 1"
      ],
      "metadata": {
        "id": "Caw9NgY9MFgy"
      },
      "execution_count": 31,
      "outputs": []
    },
    {
      "cell_type": "code",
      "source": [
        "# Dimension reduction with t-SNE\n",
        "model = TSNE(n_components=2, learning_rate=200, random_state=42)\n",
        "tsne_features = model.fit_transform(A)\n",
        "\n",
        "# Make X, Y columns \n",
        "moisturizers_dry['X'] = tsne_features[:, 0]\n",
        "moisturizers_dry['Y'] = tsne_features[:, 1]"
      ],
      "metadata": {
        "colab": {
          "base_uri": "https://localhost:8080/"
        },
        "id": "AqYo5p3XQQNU",
        "outputId": "a3f8c9e4-758b-49c2-a4e3-fd3d3ef49082"
      },
      "execution_count": 32,
      "outputs": [
        {
          "output_type": "stream",
          "name": "stderr",
          "text": [
            "/usr/local/lib/python3.7/dist-packages/sklearn/manifold/_t_sne.py:783: FutureWarning:\n",
            "\n",
            "The default initialization in TSNE will change from 'random' to 'pca' in 1.2.\n",
            "\n"
          ]
        }
      ]
    },
    {
      "cell_type": "markdown",
      "source": [
        "## Comparing Items with Cosine Similarity"
      ],
      "metadata": {
        "id": "-T_xqoEQgPvu"
      }
    },
    {
      "cell_type": "code",
      "source": [
        "moisturizers_dry_2 = moisturizers_dry[moisturizers_dry.tipe_produk == 'Moisturizer_Dry'].reset_index()\n",
        "moisturizers_dry_2['dist'] = 0.0"
      ],
      "metadata": {
        "id": "FE79IpKegdOO"
      },
      "execution_count": 33,
      "outputs": []
    },
    {
      "cell_type": "code",
      "source": [
        "# Find the product named Peat Miracle Revital\n",
        "from scipy.linalg import svd\n",
        "\n",
        "myItem = moisturizers_dry_2[moisturizers_dry_2.notable_effects.str.contains('acne-free')]\n",
        "# getting the array for myItem\n",
        "X = myItem.SVD1.values\n",
        "Y = myItem.SVD2.values\n",
        "Point_1 = np.array([X, Y]).reshape(1, -1)\n",
        "# cosine similarities with other items\n",
        "for i in range(len(moisturizers_dry_2)):\n",
        "    P2 = np.array([moisturizers_dry_2['SVD1'][i], moisturizers_dry_2['SVD2'][i]]).reshape(-1, 1)\n",
        "    moisturizers_dry_2.dist[i] = (P1 * P2).sum() / (np.sqrt(np.sum(P1))*np.sqrt(np.sum(P2)))"
      ],
      "metadata": {
        "colab": {
          "base_uri": "https://localhost:8080/",
          "height": 356
        },
        "id": "0SXwhRGciH7e",
        "outputId": "d3e6ba43-5276-4eab-f593-b579241c6871"
      },
      "execution_count": 35,
      "outputs": [
        {
          "output_type": "error",
          "ename": "AttributeError",
          "evalue": "ignored",
          "traceback": [
            "\u001b[0;31m---------------------------------------------------------------------------\u001b[0m",
            "\u001b[0;31mAttributeError\u001b[0m                            Traceback (most recent call last)",
            "\u001b[0;32m<ipython-input-35-5337771d3927>\u001b[0m in \u001b[0;36m<module>\u001b[0;34m()\u001b[0m\n\u001b[1;32m      4\u001b[0m \u001b[0mmyItem\u001b[0m \u001b[0;34m=\u001b[0m \u001b[0mmoisturizers_dry_2\u001b[0m\u001b[0;34m[\u001b[0m\u001b[0mmoisturizers_dry_2\u001b[0m\u001b[0;34m.\u001b[0m\u001b[0mnotable_effects\u001b[0m\u001b[0;34m.\u001b[0m\u001b[0mstr\u001b[0m\u001b[0;34m.\u001b[0m\u001b[0mcontains\u001b[0m\u001b[0;34m(\u001b[0m\u001b[0;34m'acne-free'\u001b[0m\u001b[0;34m)\u001b[0m\u001b[0;34m]\u001b[0m\u001b[0;34m\u001b[0m\u001b[0;34m\u001b[0m\u001b[0m\n\u001b[1;32m      5\u001b[0m \u001b[0;31m# getting the array for myItem\u001b[0m\u001b[0;34m\u001b[0m\u001b[0;34m\u001b[0m\u001b[0;34m\u001b[0m\u001b[0m\n\u001b[0;32m----> 6\u001b[0;31m \u001b[0mX\u001b[0m \u001b[0;34m=\u001b[0m \u001b[0mmyItem\u001b[0m\u001b[0;34m.\u001b[0m\u001b[0mSVD1\u001b[0m\u001b[0;34m.\u001b[0m\u001b[0mvalues\u001b[0m\u001b[0;34m\u001b[0m\u001b[0;34m\u001b[0m\u001b[0m\n\u001b[0m\u001b[1;32m      7\u001b[0m \u001b[0mY\u001b[0m \u001b[0;34m=\u001b[0m \u001b[0mmyItem\u001b[0m\u001b[0;34m.\u001b[0m\u001b[0mSVD2\u001b[0m\u001b[0;34m.\u001b[0m\u001b[0mvalues\u001b[0m\u001b[0;34m\u001b[0m\u001b[0;34m\u001b[0m\u001b[0m\n\u001b[1;32m      8\u001b[0m \u001b[0mPoint_1\u001b[0m \u001b[0;34m=\u001b[0m \u001b[0mnp\u001b[0m\u001b[0;34m.\u001b[0m\u001b[0marray\u001b[0m\u001b[0;34m(\u001b[0m\u001b[0;34m[\u001b[0m\u001b[0mX\u001b[0m\u001b[0;34m,\u001b[0m \u001b[0mY\u001b[0m\u001b[0;34m]\u001b[0m\u001b[0;34m)\u001b[0m\u001b[0;34m.\u001b[0m\u001b[0mreshape\u001b[0m\u001b[0;34m(\u001b[0m\u001b[0;36m1\u001b[0m\u001b[0;34m,\u001b[0m \u001b[0;34m-\u001b[0m\u001b[0;36m1\u001b[0m\u001b[0;34m)\u001b[0m\u001b[0;34m\u001b[0m\u001b[0;34m\u001b[0m\u001b[0m\n",
            "\u001b[0;32m/usr/local/lib/python3.7/dist-packages/pandas/core/generic.py\u001b[0m in \u001b[0;36m__getattr__\u001b[0;34m(self, name)\u001b[0m\n\u001b[1;32m   5139\u001b[0m             \u001b[0;32mif\u001b[0m \u001b[0mself\u001b[0m\u001b[0;34m.\u001b[0m\u001b[0m_info_axis\u001b[0m\u001b[0;34m.\u001b[0m\u001b[0m_can_hold_identifiers_and_holds_name\u001b[0m\u001b[0;34m(\u001b[0m\u001b[0mname\u001b[0m\u001b[0;34m)\u001b[0m\u001b[0;34m:\u001b[0m\u001b[0;34m\u001b[0m\u001b[0;34m\u001b[0m\u001b[0m\n\u001b[1;32m   5140\u001b[0m                 \u001b[0;32mreturn\u001b[0m \u001b[0mself\u001b[0m\u001b[0;34m[\u001b[0m\u001b[0mname\u001b[0m\u001b[0;34m]\u001b[0m\u001b[0;34m\u001b[0m\u001b[0;34m\u001b[0m\u001b[0m\n\u001b[0;32m-> 5141\u001b[0;31m             \u001b[0;32mreturn\u001b[0m \u001b[0mobject\u001b[0m\u001b[0;34m.\u001b[0m\u001b[0m__getattribute__\u001b[0m\u001b[0;34m(\u001b[0m\u001b[0mself\u001b[0m\u001b[0;34m,\u001b[0m \u001b[0mname\u001b[0m\u001b[0;34m)\u001b[0m\u001b[0;34m\u001b[0m\u001b[0;34m\u001b[0m\u001b[0m\n\u001b[0m\u001b[1;32m   5142\u001b[0m \u001b[0;34m\u001b[0m\u001b[0m\n\u001b[1;32m   5143\u001b[0m     \u001b[0;32mdef\u001b[0m \u001b[0m__setattr__\u001b[0m\u001b[0;34m(\u001b[0m\u001b[0mself\u001b[0m\u001b[0;34m,\u001b[0m \u001b[0mname\u001b[0m\u001b[0;34m:\u001b[0m \u001b[0mstr\u001b[0m\u001b[0;34m,\u001b[0m \u001b[0mvalue\u001b[0m\u001b[0;34m)\u001b[0m \u001b[0;34m->\u001b[0m \u001b[0;32mNone\u001b[0m\u001b[0;34m:\u001b[0m\u001b[0;34m\u001b[0m\u001b[0;34m\u001b[0m\u001b[0m\n",
            "\u001b[0;31mAttributeError\u001b[0m: 'DataFrame' object has no attribute 'SVD1'"
          ]
        }
      ]
    }
  ]
}