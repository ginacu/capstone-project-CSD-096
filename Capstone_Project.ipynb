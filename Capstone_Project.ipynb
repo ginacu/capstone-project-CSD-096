{
  "nbformat": 4,
  "nbformat_minor": 0,
  "metadata": {
    "colab": {
      "name": "Capstone_Project.ipynb",
      "provenance": [],
      "collapsed_sections": [],
      "authorship_tag": "ABX9TyMGGeJ9OH/lUd1+/8+QaxR+",
      "include_colab_link": true
    },
    "kernelspec": {
      "name": "python3",
      "display_name": "Python 3"
    },
    "language_info": {
      "name": "python"
    }
  },
  "cells": [
    {
      "cell_type": "markdown",
      "metadata": {
        "id": "view-in-github",
        "colab_type": "text"
      },
      "source": [
        "<a href=\"https://colab.research.google.com/github/ginacu/capstone-project-CSD-096/blob/main/Capstone_Project.ipynb\" target=\"_parent\"><img src=\"https://colab.research.google.com/assets/colab-badge.svg\" alt=\"Open In Colab\"/></a>"
      ]
    },
    {
      "cell_type": "markdown",
      "metadata": {
        "id": "YAoLkfdGdFYf"
      },
      "source": [
        "Aplikasi Rekomendasi Skincare Berdasarkan Permasalahan Wajah"
      ]
    },
    {
      "cell_type": "code",
      "metadata": {
        "id": "9uUdg5JHc3MW"
      },
      "source": [
        "import tensorflow as tf\n",
        "import numpy as np\n",
        "import pandas as pd\n",
        "import matplotlib.pyplot as plt \n",
        "%matplotlib inline\n",
        "import plotly.express as px\n",
        "import seaborn as sns\n",
        "import missingno as mno\n",
        "from sklearn.decomposition import TruncatedSVD"
      ],
      "execution_count": 34,
      "outputs": []
    },
    {
      "cell_type": "code",
      "metadata": {
        "colab": {
          "base_uri": "https://localhost:8080/"
        },
        "id": "bDYu_8EbJcJv",
        "outputId": "71d91d13-1a8e-47c7-c1e7-5367eeb87f73"
      },
      "source": [
        "# Import the Dataset \n",
        "\n",
        "from google.colab import drive\n",
        "drive.mount('/content/drive') "
      ],
      "execution_count": 35,
      "outputs": [
        {
          "output_type": "stream",
          "name": "stdout",
          "text": [
            "Drive already mounted at /content/drive; to attempt to forcibly remount, call drive.mount(\"/content/drive\", force_remount=True).\n"
          ]
        }
      ]
    },
    {
      "cell_type": "code",
      "metadata": {
        "colab": {
          "base_uri": "https://localhost:8080/"
        },
        "id": "T4k1dtxzMQn2",
        "outputId": "0c8fea16-57c6-492e-cc04-3de0f6915752"
      },
      "source": [
        "!ls \"/content/drive/MyDrive/Dataset/Capstone-Dataset-rev2 (2).csv\""
      ],
      "execution_count": 36,
      "outputs": [
        {
          "output_type": "stream",
          "name": "stdout",
          "text": [
            "'/content/drive/MyDrive/Dataset/Capstone-Dataset-rev2 (2).csv'\n"
          ]
        }
      ]
    },
    {
      "cell_type": "markdown",
      "metadata": {
        "id": "nkJpaDcQMtqz"
      },
      "source": [
        "Preliminary Exploration"
      ]
    },
    {
      "cell_type": "code",
      "metadata": {
        "colab": {
          "base_uri": "https://localhost:8080/",
          "height": 1000
        },
        "id": "jRQzB4E2MiYs",
        "outputId": "648cedfc-c50b-4d06-b62a-d4470071f6e4"
      },
      "source": [
        "skincare = pd.read_csv('/content/drive/MyDrive/Dataset/Capstone-Dataset-rev2 (2).csv', low_memory=False)\n",
        "skincare.info()\n",
        "skincare.head()"
      ],
      "execution_count": 37,
      "outputs": [
        {
          "output_type": "stream",
          "name": "stdout",
          "text": [
            "<class 'pandas.core.frame.DataFrame'>\n",
            "RangeIndex: 1034 entries, 0 to 1033\n",
            "Data columns (total 26 columns):\n",
            " #   Column           Non-Null Count  Dtype  \n",
            "---  ------           --------------  -----  \n",
            " 0   produk-href      1034 non-null   object \n",
            " 1   product_name     1034 non-null   object \n",
            " 2   price            1034 non-null   object \n",
            " 3   description      1034 non-null   object \n",
            " 4   notable_effects  1034 non-null   object \n",
            " 5   skintype         1031 non-null   object \n",
            " 6   picture_src      1034 non-null   object \n",
            " 7   tipe_produk      1034 non-null   object \n",
            " 8   Unnamed: 8       0 non-null      float64\n",
            " 9   Unnamed: 9       0 non-null      float64\n",
            " 10  Unnamed: 10      0 non-null      float64\n",
            " 11  Unnamed: 11      0 non-null      float64\n",
            " 12  Unnamed: 12      0 non-null      float64\n",
            " 13  Unnamed: 13      0 non-null      float64\n",
            " 14  Unnamed: 14      0 non-null      float64\n",
            " 15  Unnamed: 15      0 non-null      float64\n",
            " 16  Unnamed: 16      0 non-null      float64\n",
            " 17  Unnamed: 17      0 non-null      float64\n",
            " 18  Unnamed: 18      0 non-null      float64\n",
            " 19  Unnamed: 19      0 non-null      float64\n",
            " 20  Unnamed: 20      0 non-null      float64\n",
            " 21  Unnamed: 21      0 non-null      float64\n",
            " 22  Unnamed: 22      0 non-null      float64\n",
            " 23  Unnamed: 23      0 non-null      float64\n",
            " 24  Unnamed: 24      0 non-null      float64\n",
            " 25  Unnamed: 25      0 non-null      float64\n",
            "dtypes: float64(18), object(8)\n",
            "memory usage: 210.2+ KB\n"
          ]
        },
        {
          "output_type": "execute_result",
          "data": {
            "text/html": [
              "<div>\n",
              "<style scoped>\n",
              "    .dataframe tbody tr th:only-of-type {\n",
              "        vertical-align: middle;\n",
              "    }\n",
              "\n",
              "    .dataframe tbody tr th {\n",
              "        vertical-align: top;\n",
              "    }\n",
              "\n",
              "    .dataframe thead th {\n",
              "        text-align: right;\n",
              "    }\n",
              "</style>\n",
              "<table border=\"1\" class=\"dataframe\">\n",
              "  <thead>\n",
              "    <tr style=\"text-align: right;\">\n",
              "      <th></th>\n",
              "      <th>produk-href</th>\n",
              "      <th>product_name</th>\n",
              "      <th>price</th>\n",
              "      <th>description</th>\n",
              "      <th>notable_effects</th>\n",
              "      <th>skintype</th>\n",
              "      <th>picture_src</th>\n",
              "      <th>tipe_produk</th>\n",
              "      <th>Unnamed: 8</th>\n",
              "      <th>Unnamed: 9</th>\n",
              "      <th>Unnamed: 10</th>\n",
              "      <th>Unnamed: 11</th>\n",
              "      <th>Unnamed: 12</th>\n",
              "      <th>Unnamed: 13</th>\n",
              "      <th>Unnamed: 14</th>\n",
              "      <th>Unnamed: 15</th>\n",
              "      <th>Unnamed: 16</th>\n",
              "      <th>Unnamed: 17</th>\n",
              "      <th>Unnamed: 18</th>\n",
              "      <th>Unnamed: 19</th>\n",
              "      <th>Unnamed: 20</th>\n",
              "      <th>Unnamed: 21</th>\n",
              "      <th>Unnamed: 22</th>\n",
              "      <th>Unnamed: 23</th>\n",
              "      <th>Unnamed: 24</th>\n",
              "      <th>Unnamed: 25</th>\n",
              "    </tr>\n",
              "  </thead>\n",
              "  <tbody>\n",
              "    <tr>\n",
              "      <th>0</th>\n",
              "      <td>https://www.beautyhaul.com/product/detail/acne...</td>\n",
              "      <td>Acne Gentle Cleansing Foam</td>\n",
              "      <td>Rp 35.000</td>\n",
              "      <td>Pembersih wajah bebas minyak untuk kulit BERJE...</td>\n",
              "      <td>Acne-Free, Oil-Control, Pore-Care</td>\n",
              "      <td>Dry</td>\n",
              "      <td>https://www.beautyhaul.com/assets/uploads/prod...</td>\n",
              "      <td>facewash</td>\n",
              "      <td>NaN</td>\n",
              "      <td>NaN</td>\n",
              "      <td>NaN</td>\n",
              "      <td>NaN</td>\n",
              "      <td>NaN</td>\n",
              "      <td>NaN</td>\n",
              "      <td>NaN</td>\n",
              "      <td>NaN</td>\n",
              "      <td>NaN</td>\n",
              "      <td>NaN</td>\n",
              "      <td>NaN</td>\n",
              "      <td>NaN</td>\n",
              "      <td>NaN</td>\n",
              "      <td>NaN</td>\n",
              "      <td>NaN</td>\n",
              "      <td>NaN</td>\n",
              "      <td>NaN</td>\n",
              "      <td>NaN</td>\n",
              "    </tr>\n",
              "    <tr>\n",
              "      <th>1</th>\n",
              "      <td>https://www.beautyhaul.com/product/detail/aloe...</td>\n",
              "      <td>Natur Aloe Mild Cleanser</td>\n",
              "      <td>Rp 79.000</td>\n",
              "      <td>Natur Aloe Mild Cleanser dengan brush yang lem...</td>\n",
              "      <td>Pore-Care, Brightening, Anti-Aging</td>\n",
              "      <td>Dry, Oily, Sensitive</td>\n",
              "      <td>https://www.beautyhaul.com/assets/uploads/prod...</td>\n",
              "      <td>facewash</td>\n",
              "      <td>NaN</td>\n",
              "      <td>NaN</td>\n",
              "      <td>NaN</td>\n",
              "      <td>NaN</td>\n",
              "      <td>NaN</td>\n",
              "      <td>NaN</td>\n",
              "      <td>NaN</td>\n",
              "      <td>NaN</td>\n",
              "      <td>NaN</td>\n",
              "      <td>NaN</td>\n",
              "      <td>NaN</td>\n",
              "      <td>NaN</td>\n",
              "      <td>NaN</td>\n",
              "      <td>NaN</td>\n",
              "      <td>NaN</td>\n",
              "      <td>NaN</td>\n",
              "      <td>NaN</td>\n",
              "      <td>NaN</td>\n",
              "    </tr>\n",
              "    <tr>\n",
              "      <th>2</th>\n",
              "      <td>https://www.beautyhaul.com/product/detail/acne...</td>\n",
              "      <td>Acne Care Lab Cleanser Scrub</td>\n",
              "      <td>Rp 104.500</td>\n",
              "      <td>Acne Care Lab Acne Cleanser Scrub Beta Plus (A...</td>\n",
              "      <td>Acne-Free</td>\n",
              "      <td>Dry</td>\n",
              "      <td>https://www.beautyhaul.com/assets/uploads/prod...</td>\n",
              "      <td>facewash</td>\n",
              "      <td>NaN</td>\n",
              "      <td>NaN</td>\n",
              "      <td>NaN</td>\n",
              "      <td>NaN</td>\n",
              "      <td>NaN</td>\n",
              "      <td>NaN</td>\n",
              "      <td>NaN</td>\n",
              "      <td>NaN</td>\n",
              "      <td>NaN</td>\n",
              "      <td>NaN</td>\n",
              "      <td>NaN</td>\n",
              "      <td>NaN</td>\n",
              "      <td>NaN</td>\n",
              "      <td>NaN</td>\n",
              "      <td>NaN</td>\n",
              "      <td>NaN</td>\n",
              "      <td>NaN</td>\n",
              "      <td>NaN</td>\n",
              "    </tr>\n",
              "    <tr>\n",
              "      <th>3</th>\n",
              "      <td>https://www.beautyhaul.com/product/detail/brig...</td>\n",
              "      <td>Brightening Facial Cleanser</td>\n",
              "      <td>Rp 35.000</td>\n",
              "      <td>Pembersih wajah yang segar, lembut dan creamy ...</td>\n",
              "      <td>Acne-Free, Pore-Care, Brightening, Anti-Aging</td>\n",
              "      <td>Dry, Oily, Sensitive</td>\n",
              "      <td>https://www.beautyhaul.com/assets/uploads/prod...</td>\n",
              "      <td>facewash</td>\n",
              "      <td>NaN</td>\n",
              "      <td>NaN</td>\n",
              "      <td>NaN</td>\n",
              "      <td>NaN</td>\n",
              "      <td>NaN</td>\n",
              "      <td>NaN</td>\n",
              "      <td>NaN</td>\n",
              "      <td>NaN</td>\n",
              "      <td>NaN</td>\n",
              "      <td>NaN</td>\n",
              "      <td>NaN</td>\n",
              "      <td>NaN</td>\n",
              "      <td>NaN</td>\n",
              "      <td>NaN</td>\n",
              "      <td>NaN</td>\n",
              "      <td>NaN</td>\n",
              "      <td>NaN</td>\n",
              "      <td>NaN</td>\n",
              "    </tr>\n",
              "    <tr>\n",
              "      <th>4</th>\n",
              "      <td>https://www.beautyhaul.com/product/detail/pome...</td>\n",
              "      <td>Natur Pome Mild Cleanser</td>\n",
              "      <td>Rp 79.000</td>\n",
              "      <td>Natur Pome Mild Cleanser dengan brush yang lem...</td>\n",
              "      <td>Pore-Care, Brightening, Anti-Aging</td>\n",
              "      <td>Dry, Oily, Sensitive</td>\n",
              "      <td>https://www.beautyhaul.com/assets/uploads/prod...</td>\n",
              "      <td>facewash</td>\n",
              "      <td>NaN</td>\n",
              "      <td>NaN</td>\n",
              "      <td>NaN</td>\n",
              "      <td>NaN</td>\n",
              "      <td>NaN</td>\n",
              "      <td>NaN</td>\n",
              "      <td>NaN</td>\n",
              "      <td>NaN</td>\n",
              "      <td>NaN</td>\n",
              "      <td>NaN</td>\n",
              "      <td>NaN</td>\n",
              "      <td>NaN</td>\n",
              "      <td>NaN</td>\n",
              "      <td>NaN</td>\n",
              "      <td>NaN</td>\n",
              "      <td>NaN</td>\n",
              "      <td>NaN</td>\n",
              "      <td>NaN</td>\n",
              "    </tr>\n",
              "  </tbody>\n",
              "</table>\n",
              "</div>"
            ],
            "text/plain": [
              "                                         produk-href  ... Unnamed: 25\n",
              "0  https://www.beautyhaul.com/product/detail/acne...  ...         NaN\n",
              "1  https://www.beautyhaul.com/product/detail/aloe...  ...         NaN\n",
              "2  https://www.beautyhaul.com/product/detail/acne...  ...         NaN\n",
              "3  https://www.beautyhaul.com/product/detail/brig...  ...         NaN\n",
              "4  https://www.beautyhaul.com/product/detail/pome...  ...         NaN\n",
              "\n",
              "[5 rows x 26 columns]"
            ]
          },
          "metadata": {},
          "execution_count": 37
        }
      ]
    },
    {
      "cell_type": "code",
      "metadata": {
        "colab": {
          "base_uri": "https://localhost:8080/"
        },
        "id": "TOqywcsJBS1t",
        "outputId": "5a1fa5ec-6205-4f15-f548-6a1a33d3a051"
      },
      "source": [
        "# Remove column Unnamed 8-25 as not important to the model \n",
        "\n",
        "skincare.drop([\"Unnamed: 8\", \"Unnamed: 9\", \"Unnamed: 10\", \"Unnamed: 11\", \"Unnamed: 12\", \"Unnamed: 13\", \"Unnamed: 14\", \"Unnamed: 15\", \"Unnamed: 16\", \"Unnamed: 17\", \"Unnamed: 18\", \"Unnamed: 19\", \"Unnamed: 20\", \"Unnamed: 21\", \"Unnamed: 22\", \"Unnamed: 23\", \"Unnamed: 24\", \"Unnamed: 25\"], axis=1, inplace=True)\n",
        "skincare.info()"
      ],
      "execution_count": 38,
      "outputs": [
        {
          "output_type": "stream",
          "name": "stdout",
          "text": [
            "<class 'pandas.core.frame.DataFrame'>\n",
            "RangeIndex: 1034 entries, 0 to 1033\n",
            "Data columns (total 8 columns):\n",
            " #   Column           Non-Null Count  Dtype \n",
            "---  ------           --------------  ----- \n",
            " 0   produk-href      1034 non-null   object\n",
            " 1   product_name     1034 non-null   object\n",
            " 2   price            1034 non-null   object\n",
            " 3   description      1034 non-null   object\n",
            " 4   notable_effects  1034 non-null   object\n",
            " 5   skintype         1031 non-null   object\n",
            " 6   picture_src      1034 non-null   object\n",
            " 7   tipe_produk      1034 non-null   object\n",
            "dtypes: object(8)\n",
            "memory usage: 64.8+ KB\n"
          ]
        }
      ]
    },
    {
      "cell_type": "markdown",
      "metadata": {
        "id": "4R8-1rY4EaYB"
      },
      "source": [
        "# Data Exploration "
      ]
    },
    {
      "cell_type": "code",
      "source": [
        "# Let's look at the unique classes in data\n",
        "skincare['notable_effects'].unique()"
      ],
      "metadata": {
        "colab": {
          "base_uri": "https://localhost:8080/"
        },
        "id": "0UImJaQ61GaA",
        "outputId": "1e190b78-7632-469e-ecbc-07f9bff8e2c0"
      },
      "execution_count": 39,
      "outputs": [
        {
          "output_type": "execute_result",
          "data": {
            "text/plain": [
              "array(['Acne-Free, Oil-Control, Pore-Care',\n",
              "       'Pore-Care, Brightening, Anti-Aging', 'Acne-Free',\n",
              "       'Acne-Free, Pore-Care, Brightening, Anti-Aging', 'Anti-Aging',\n",
              "       'Soothing, Brightening', 'Cleansing', 'Soothing, Moisturizing',\n",
              "       'Hydrating, Soothing', 'Moisturizing',\n",
              "       'Brightening, Anti-Aging, UV-Protection',\n",
              "       'Hydrating, Moisturizing', 'Acne-Free, Brightening, Anti-Aging',\n",
              "       'Anti-Aging\\n', 'UV-Protection', 'Brightening, Anti-Aging',\n",
              "       'Soothing, Balancing', 'Anti-Aging, UV-Protection',\n",
              "       'Moisturizing, Brightening, Black-Spot',\n",
              "       'Pore-Care,  Brightening, Anti-Aging',\n",
              "       'Acne-Free,  Pore-Care, Anti-Aging', 'Brightening, UV-Protection',\n",
              "       'Moisturizing, UV-Protection', 'UV-Protection, No-Whitecast'],\n",
              "      dtype=object)"
            ]
          },
          "metadata": {},
          "execution_count": 39
        }
      ]
    },
    {
      "cell_type": "code",
      "source": [
        "# Looking at number of classes \n",
        "skincare['notable_effects'].nunique()"
      ],
      "metadata": {
        "colab": {
          "base_uri": "https://localhost:8080/"
        },
        "id": "pfscY_Or1y92",
        "outputId": "4bb896b8-9c7e-4d3b-90b9-e5d90499cfaa"
      },
      "execution_count": 40,
      "outputs": [
        {
          "output_type": "execute_result",
          "data": {
            "text/plain": [
              "24"
            ]
          },
          "metadata": {},
          "execution_count": 40
        }
      ]
    },
    {
      "cell_type": "code",
      "metadata": {
        "id": "jMHhIHk8FJu3"
      },
      "source": [
        "categorical_features = ['notable_effects', 'skintype', 'tipe_produk']"
      ],
      "execution_count": 41,
      "outputs": []
    },
    {
      "cell_type": "code",
      "metadata": {
        "colab": {
          "base_uri": "https://localhost:8080/",
          "height": 1000
        },
        "id": "wzgt9D9kEdAZ",
        "outputId": "ac8486bc-c7b1-4b97-f4f0-b3195c165582"
      },
      "source": [
        "#Plotting Categorical Variables\n",
        "\n",
        "fig, ax = plt.subplots(1, 2)\n",
        "skincare[\"notable_effects\"].value_counts().plot.bar(color=\"brown\", ax=ax[0])\n",
        "skincare[\"notable_effects\"].value_counts().plot.pie(autopct='%1.1f%%',shadow=True,textprops={\"fontsize\": 8},ax=ax[1])\n",
        "fig.suptitle(\"Effects Frequency\", fontsize=15)\n",
        "plt.xticks(rotation=90)\n",
        "plt.yticks(rotation=45)\n",
        "\n",
        "fig, ax = plt.subplots(1, 2)\n",
        "skincare[\"skintype\"].value_counts().plot.bar(color=\"brown\", ax=ax[0])\n",
        "skincare[\"skintype\"].value_counts().plot.pie(autopct='%1.1f%%',shadow=True,textprops={\"fontsize\": 10},ax=ax[1])\n",
        "fig.suptitle(\"Skintype Frequency\", fontsize=15)\n",
        "plt.xticks(rotation=90)\n",
        "plt.yticks(rotation=45)\n",
        "\n",
        "fig, ax = plt.subplots(1, 2)\n",
        "skincare[\"tipe_produk\"].value_counts().plot.bar(color=\"brown\", ax=ax[0])\n",
        "skincare[\"tipe_produk\"].value_counts().plot.pie(autopct='%1.1f%%',shadow=True,textprops={\"fontsize\": 10},ax=ax[1])\n",
        "fig.suptitle(\"Product Type Frequency\", fontsize=15)\n",
        "plt.xticks(rotation=90)\n",
        "plt.yticks(rotation=45)"
      ],
      "execution_count": 42,
      "outputs": [
        {
          "output_type": "execute_result",
          "data": {
            "text/plain": [
              "(array([], dtype=float64), <a list of 0 Text major ticklabel objects>)"
            ]
          },
          "metadata": {},
          "execution_count": 42
        },
        {
          "output_type": "display_data",
          "data": {
            "image/png": "[encoded data removed]",
            "text/plain": [
              "<Figure size 432x288 with 2 Axes>"
            ]
          },
          "metadata": {
            "needs_background": "light"
          }
        },
        {
          "output_type": "display_data",
          "data": {
            "image/png": "[encoded data removed]",
            "text/plain": [
              "<Figure size 432x288 with 2 Axes>"
            ]
          },
          "metadata": {
            "needs_background": "light"
          }
        },
        {
          "output_type": "display_data",
          "data": {
            "image/png": "[encoded data removed]",
            "text/plain": [
              "<Figure size 432x288 with 2 Axes>"
            ]
          },
          "metadata": {
            "needs_background": "light"
          }
        }
      ]
    },
    {
      "cell_type": "code",
      "source": [
        "# Creating numerical labels of notable_effects due to many effects shown by the diagram above\n",
        "skincare['notable_effects']=skincare['notable_effects'].astype('category')\n",
        "skincare['labels']=skincare['notable_effects'].cat.codes\n",
        "skincare.head()"
      ],
      "metadata": {
        "colab": {
          "base_uri": "https://localhost:8080/",
          "height": 608
        },
        "id": "u-WLO1Ro52CS",
        "outputId": "fa780e03-3b85-4ca9-b2ad-97daa055bbe5"
      },
      "execution_count": 43,
      "outputs": [
        {
          "output_type": "execute_result",
          "data": {
            "text/html": [
              "<div>\n",
              "<style scoped>\n",
              "    .dataframe tbody tr th:only-of-type {\n",
              "        vertical-align: middle;\n",
              "    }\n",
              "\n",
              "    .dataframe tbody tr th {\n",
              "        vertical-align: top;\n",
              "    }\n",
              "\n",
              "    .dataframe thead th {\n",
              "        text-align: right;\n",
              "    }\n",
              "</style>\n",
              "<table border=\"1\" class=\"dataframe\">\n",
              "  <thead>\n",
              "    <tr style=\"text-align: right;\">\n",
              "      <th></th>\n",
              "      <th>produk-href</th>\n",
              "      <th>product_name</th>\n",
              "      <th>price</th>\n",
              "      <th>description</th>\n",
              "      <th>notable_effects</th>\n",
              "      <th>skintype</th>\n",
              "      <th>picture_src</th>\n",
              "      <th>tipe_produk</th>\n",
              "      <th>labels</th>\n",
              "    </tr>\n",
              "  </thead>\n",
              "  <tbody>\n",
              "    <tr>\n",
              "      <th>0</th>\n",
              "      <td>https://www.beautyhaul.com/product/detail/acne...</td>\n",
              "      <td>Acne Gentle Cleansing Foam</td>\n",
              "      <td>Rp 35.000</td>\n",
              "      <td>Pembersih wajah bebas minyak untuk kulit BERJE...</td>\n",
              "      <td>Acne-Free, Oil-Control, Pore-Care</td>\n",
              "      <td>Dry</td>\n",
              "      <td>https://www.beautyhaul.com/assets/uploads/prod...</td>\n",
              "      <td>facewash</td>\n",
              "      <td>3</td>\n",
              "    </tr>\n",
              "    <tr>\n",
              "      <th>1</th>\n",
              "      <td>https://www.beautyhaul.com/product/detail/aloe...</td>\n",
              "      <td>Natur Aloe Mild Cleanser</td>\n",
              "      <td>Rp 79.000</td>\n",
              "      <td>Natur Aloe Mild Cleanser dengan brush yang lem...</td>\n",
              "      <td>Pore-Care, Brightening, Anti-Aging</td>\n",
              "      <td>Dry, Oily, Sensitive</td>\n",
              "      <td>https://www.beautyhaul.com/assets/uploads/prod...</td>\n",
              "      <td>facewash</td>\n",
              "      <td>18</td>\n",
              "    </tr>\n",
              "    <tr>\n",
              "      <th>2</th>\n",
              "      <td>https://www.beautyhaul.com/product/detail/acne...</td>\n",
              "      <td>Acne Care Lab Cleanser Scrub</td>\n",
              "      <td>Rp 104.500</td>\n",
              "      <td>Acne Care Lab Acne Cleanser Scrub Beta Plus (A...</td>\n",
              "      <td>Acne-Free</td>\n",
              "      <td>Dry</td>\n",
              "      <td>https://www.beautyhaul.com/assets/uploads/prod...</td>\n",
              "      <td>facewash</td>\n",
              "      <td>0</td>\n",
              "    </tr>\n",
              "    <tr>\n",
              "      <th>3</th>\n",
              "      <td>https://www.beautyhaul.com/product/detail/brig...</td>\n",
              "      <td>Brightening Facial Cleanser</td>\n",
              "      <td>Rp 35.000</td>\n",
              "      <td>Pembersih wajah yang segar, lembut dan creamy ...</td>\n",
              "      <td>Acne-Free, Pore-Care, Brightening, Anti-Aging</td>\n",
              "      <td>Dry, Oily, Sensitive</td>\n",
              "      <td>https://www.beautyhaul.com/assets/uploads/prod...</td>\n",
              "      <td>facewash</td>\n",
              "      <td>4</td>\n",
              "    </tr>\n",
              "    <tr>\n",
              "      <th>4</th>\n",
              "      <td>https://www.beautyhaul.com/product/detail/pome...</td>\n",
              "      <td>Natur Pome Mild Cleanser</td>\n",
              "      <td>Rp 79.000</td>\n",
              "      <td>Natur Pome Mild Cleanser dengan brush yang lem...</td>\n",
              "      <td>Pore-Care, Brightening, Anti-Aging</td>\n",
              "      <td>Dry, Oily, Sensitive</td>\n",
              "      <td>https://www.beautyhaul.com/assets/uploads/prod...</td>\n",
              "      <td>facewash</td>\n",
              "      <td>18</td>\n",
              "    </tr>\n",
              "  </tbody>\n",
              "</table>\n",
              "</div>"
            ],
            "text/plain": [
              "                                         produk-href  ... labels\n",
              "0  https://www.beautyhaul.com/product/detail/acne...  ...      3\n",
              "1  https://www.beautyhaul.com/product/detail/aloe...  ...     18\n",
              "2  https://www.beautyhaul.com/product/detail/acne...  ...      0\n",
              "3  https://www.beautyhaul.com/product/detail/brig...  ...      4\n",
              "4  https://www.beautyhaul.com/product/detail/pome...  ...     18\n",
              "\n",
              "[5 rows x 9 columns]"
            ]
          },
          "metadata": {},
          "execution_count": 43
        }
      ]
    },
    {
      "cell_type": "code",
      "source": [
        "# Looking at the label distribution\n",
        "plt.figure(figsize=(20,10))\n",
        "sns.countplot(skincare['labels'])"
      ],
      "metadata": {
        "colab": {
          "base_uri": "https://localhost:8080/",
          "height": 492
        },
        "id": "5Fhp7saz2EL6",
        "outputId": "ba4cd296-7214-489c-bfd5-e03b7f0620ac"
      },
      "execution_count": 44,
      "outputs": [
        {
          "output_type": "stream",
          "name": "stderr",
          "text": [
            "/usr/local/lib/python3.7/dist-packages/seaborn/_decorators.py:43: FutureWarning:\n",
            "\n",
            "Pass the following variable as a keyword arg: x. From version 0.12, the only valid positional argument will be `data`, and passing other arguments without an explicit keyword will result in an error or misinterpretation.\n",
            "\n"
          ]
        },
        {
          "output_type": "execute_result",
          "data": {
            "text/plain": [
              "<matplotlib.axes._subplots.AxesSubplot at 0x7f1187bc5310>"
            ]
          },
          "metadata": {},
          "execution_count": 44
        },
        {
          "output_type": "display_data",
          "data": {
            "image/png": "[encoded data removed]",
            "text/plain": [
              "<Figure size 1440x720 with 1 Axes>"
            ]
          },
          "metadata": {
            "needs_background": "light"
          }
        }
      ]
    },
    {
      "cell_type": "code",
      "source": [
        "# Checking data balancing \n",
        "\n",
        "auto_balancing = pd.DataFrame()\n",
        "auto_balancing[\"Count\"] = skincare[\"skintype\"].value_counts()\n",
        "auto_balancing[\"Count%\"] = skincare[\"skintype\"].value_counts()/skincare.shape[0]*100\n",
        "\n",
        "auto_balancing"
      ],
      "metadata": {
        "colab": {
          "base_uri": "https://localhost:8080/",
          "height": 426
        },
        "id": "nqaQmQUyvw_i",
        "outputId": "cde811bb-605e-424e-c915-6af3326f82bb"
      },
      "execution_count": 45,
      "outputs": [
        {
          "output_type": "execute_result",
          "data": {
            "text/html": [
              "<div>\n",
              "<style scoped>\n",
              "    .dataframe tbody tr th:only-of-type {\n",
              "        vertical-align: middle;\n",
              "    }\n",
              "\n",
              "    .dataframe tbody tr th {\n",
              "        vertical-align: top;\n",
              "    }\n",
              "\n",
              "    .dataframe thead th {\n",
              "        text-align: right;\n",
              "    }\n",
              "</style>\n",
              "<table border=\"1\" class=\"dataframe\">\n",
              "  <thead>\n",
              "    <tr style=\"text-align: right;\">\n",
              "      <th></th>\n",
              "      <th>Count</th>\n",
              "      <th>Count%</th>\n",
              "    </tr>\n",
              "  </thead>\n",
              "  <tbody>\n",
              "    <tr>\n",
              "      <th>Oily</th>\n",
              "      <td>307</td>\n",
              "      <td>29.690522</td>\n",
              "    </tr>\n",
              "    <tr>\n",
              "      <th>Normal, Dry, Oily, Combination, Sensitive</th>\n",
              "      <td>191</td>\n",
              "      <td>18.471954</td>\n",
              "    </tr>\n",
              "    <tr>\n",
              "      <th>Dry</th>\n",
              "      <td>170</td>\n",
              "      <td>16.441006</td>\n",
              "    </tr>\n",
              "    <tr>\n",
              "      <th>Normal</th>\n",
              "      <td>71</td>\n",
              "      <td>6.866538</td>\n",
              "    </tr>\n",
              "    <tr>\n",
              "      <th>Sensitive</th>\n",
              "      <td>69</td>\n",
              "      <td>6.673114</td>\n",
              "    </tr>\n",
              "    <tr>\n",
              "      <th>Normal, Dry, Oily, Sensitive</th>\n",
              "      <td>66</td>\n",
              "      <td>6.382979</td>\n",
              "    </tr>\n",
              "    <tr>\n",
              "      <th>Dry, Oily, Sensitive</th>\n",
              "      <td>45</td>\n",
              "      <td>4.352031</td>\n",
              "    </tr>\n",
              "    <tr>\n",
              "      <th>Normal, Dry</th>\n",
              "      <td>37</td>\n",
              "      <td>3.578337</td>\n",
              "    </tr>\n",
              "    <tr>\n",
              "      <th>Oily, Combination, Sensitive</th>\n",
              "      <td>24</td>\n",
              "      <td>2.321083</td>\n",
              "    </tr>\n",
              "    <tr>\n",
              "      <th>Dry, Sensitive</th>\n",
              "      <td>23</td>\n",
              "      <td>2.224371</td>\n",
              "    </tr>\n",
              "    <tr>\n",
              "      <th>Oily, Sensitive</th>\n",
              "      <td>15</td>\n",
              "      <td>1.450677</td>\n",
              "    </tr>\n",
              "    <tr>\n",
              "      <th>Dry, Oily, Combination</th>\n",
              "      <td>13</td>\n",
              "      <td>1.257253</td>\n",
              "    </tr>\n",
              "  </tbody>\n",
              "</table>\n",
              "</div>"
            ],
            "text/plain": [
              "                                           Count     Count%\n",
              "Oily                                         307  29.690522\n",
              "Normal, Dry, Oily, Combination, Sensitive    191  18.471954\n",
              "Dry                                          170  16.441006\n",
              "Normal                                        71   6.866538\n",
              "Sensitive                                     69   6.673114\n",
              "Normal, Dry, Oily, Sensitive                  66   6.382979\n",
              "Dry, Oily, Sensitive                          45   4.352031\n",
              "Normal, Dry                                   37   3.578337\n",
              "Oily, Combination, Sensitive                  24   2.321083\n",
              "Dry, Sensitive                                23   2.224371\n",
              "Oily, Sensitive                               15   1.450677\n",
              "Dry, Oily, Combination                        13   1.257253"
            ]
          },
          "metadata": {},
          "execution_count": 45
        }
      ]
    },
    {
      "cell_type": "code",
      "source": [
        "# Checking data balancing (for classification)\n",
        "\n",
        "auto_balancing = pd.DataFrame()\n",
        "auto_balancing[\"Count\"] = skincare[\"tipe_produk\"].value_counts()\n",
        "auto_balancing[\"Count%\"] = skincare[\"tipe_produk\"].value_counts()/skincare.shape[0]*100\n",
        "\n",
        "auto_balancing"
      ],
      "metadata": {
        "colab": {
          "base_uri": "https://localhost:8080/",
          "height": 206
        },
        "id": "4i9Mi-CuwcQL",
        "outputId": "38361a75-6477-4178-9260-4a0b508e727b"
      },
      "execution_count": 46,
      "outputs": [
        {
          "output_type": "execute_result",
          "data": {
            "text/html": [
              "<div>\n",
              "<style scoped>\n",
              "    .dataframe tbody tr th:only-of-type {\n",
              "        vertical-align: middle;\n",
              "    }\n",
              "\n",
              "    .dataframe tbody tr th {\n",
              "        vertical-align: top;\n",
              "    }\n",
              "\n",
              "    .dataframe thead th {\n",
              "        text-align: right;\n",
              "    }\n",
              "</style>\n",
              "<table border=\"1\" class=\"dataframe\">\n",
              "  <thead>\n",
              "    <tr style=\"text-align: right;\">\n",
              "      <th></th>\n",
              "      <th>Count</th>\n",
              "      <th>Count%</th>\n",
              "    </tr>\n",
              "  </thead>\n",
              "  <tbody>\n",
              "    <tr>\n",
              "      <th>serum</th>\n",
              "      <td>236</td>\n",
              "      <td>22.823985</td>\n",
              "    </tr>\n",
              "    <tr>\n",
              "      <th>toner</th>\n",
              "      <td>212</td>\n",
              "      <td>20.502901</td>\n",
              "    </tr>\n",
              "    <tr>\n",
              "      <th>moisturizer</th>\n",
              "      <td>212</td>\n",
              "      <td>20.502901</td>\n",
              "    </tr>\n",
              "    <tr>\n",
              "      <th>sunscreen</th>\n",
              "      <td>190</td>\n",
              "      <td>18.375242</td>\n",
              "    </tr>\n",
              "    <tr>\n",
              "      <th>facewash</th>\n",
              "      <td>184</td>\n",
              "      <td>17.794971</td>\n",
              "    </tr>\n",
              "  </tbody>\n",
              "</table>\n",
              "</div>"
            ],
            "text/plain": [
              "             Count     Count%\n",
              "serum          236  22.823985\n",
              "toner          212  20.502901\n",
              "moisturizer    212  20.502901\n",
              "sunscreen      190  18.375242\n",
              "facewash       184  17.794971"
            ]
          },
          "metadata": {},
          "execution_count": 46
        }
      ]
    },
    {
      "cell_type": "code",
      "source": [
        "# Plotting top notable_effects from skincare product \n",
        "\n",
        "top_effects=(skincare['notable_effects'].value_counts()).to_dict()\n",
        "count= pd.DataFrame(list(top_effects.items()),columns = ['c','count'])\n",
        "a = count.sort_values(by=['count'], ascending = False)\n",
        "a.head(5)\n",
        "labels = 'Pore-Care, Brightening, Anti-Aging','Anti-Aging','Acne-Free, Oil-Control, Pore-Care','Cleansing','Acne-Free, Pore-Care, Brightening, Anti-Aging'\n",
        "sizes = [count['count'].iloc[0],count['count'].iloc[1],count['count'].iloc[2],count['count'].iloc[3],count['count'].iloc[4]]\n",
        "explode = (0.1, 0.1, 0.1, 0.1,0.1)\n",
        "fig1 , ax1 = plt.subplots(figsize=(7,7))\n",
        "ax1.pie(sizes,\n",
        "        explode = explode,\n",
        "        labels = labels,\n",
        "        autopct = '%1.1f%%',\n",
        "        shadow = True,\n",
        "        startangle = 0)\n",
        "plt.title(\"Top 5 Effects from Skincare Product\")\n",
        "ax1.axis ('equal')\n",
        "plt.show()"
      ],
      "metadata": {
        "colab": {
          "base_uri": "https://localhost:8080/",
          "height": 427
        },
        "id": "eUKpSGack0e0",
        "outputId": "cbaf0bf5-3c46-493e-df8d-69a25908cfc9"
      },
      "execution_count": 47,
      "outputs": [
        {
          "output_type": "display_data",
          "data": {
            "image/png": "[encoded data removed]",
            "text/plain": [
              "<Figure size 504x504 with 1 Axes>"
            ]
          },
          "metadata": {}
        }
      ]
    },
    {
      "cell_type": "code",
      "source": [
        "plt.subplots(figsize=(10,5))\n",
        "sns.countplot(skincare['tipe_produk'].sort_values())\n",
        "plt.xlabel('tipe_produk')\n",
        "plt.ylabel('Count')\n",
        "plt.title('Product Type')\n",
        "\n",
        "plt.show()"
      ],
      "metadata": {
        "colab": {
          "base_uri": "https://localhost:8080/",
          "height": 440
        },
        "id": "B2XQ71aJjhiK",
        "outputId": "9b53ef98-231a-46b8-fd88-2ae35756a893"
      },
      "execution_count": 48,
      "outputs": [
        {
          "output_type": "stream",
          "name": "stderr",
          "text": [
            "/usr/local/lib/python3.7/dist-packages/seaborn/_decorators.py:43: FutureWarning:\n",
            "\n",
            "Pass the following variable as a keyword arg: x. From version 0.12, the only valid positional argument will be `data`, and passing other arguments without an explicit keyword will result in an error or misinterpretation.\n",
            "\n"
          ]
        },
        {
          "output_type": "display_data",
          "data": {
            "image/png": "[encoded data removed]",
            "text/plain": [
              "<Figure size 720x360 with 1 Axes>"
            ]
          },
          "metadata": {
            "needs_background": "light"
          }
        }
      ]
    },
    {
      "cell_type": "code",
      "source": [
        "# Checking null value \n",
        "\n",
        "skincare.isnull().sum()"
      ],
      "metadata": {
        "colab": {
          "base_uri": "https://localhost:8080/"
        },
        "id": "ibBaKOcrkHA2",
        "outputId": "07fba1b0-7c88-4d39-9471-407cf18f6928"
      },
      "execution_count": 49,
      "outputs": [
        {
          "output_type": "execute_result",
          "data": {
            "text/plain": [
              "produk-href        0\n",
              "product_name       0\n",
              "price              0\n",
              "description        0\n",
              "notable_effects    0\n",
              "skintype           3\n",
              "picture_src        0\n",
              "tipe_produk        0\n",
              "labels             0\n",
              "dtype: int64"
            ]
          },
          "metadata": {},
          "execution_count": 49
        }
      ]
    },
    {
      "cell_type": "code",
      "source": [
        "# Visualize the missing values in the dataframe\n",
        "\n",
        "mno.matrix(skincare)"
      ],
      "metadata": {
        "colab": {
          "base_uri": "https://localhost:8080/",
          "height": 368
        },
        "id": "0LEybEPgkOTq",
        "outputId": "1d2207de-a2aa-4d77-ab47-08e0241c7242"
      },
      "execution_count": 50,
      "outputs": [
        {
          "output_type": "execute_result",
          "data": {
            "text/plain": [
              "<matplotlib.axes._subplots.AxesSubplot at 0x7f11874de510>"
            ]
          },
          "metadata": {},
          "execution_count": 50
        },
        {
          "output_type": "display_data",
          "data": {
            "image/png": "[encoded data removed]",
            "text/plain": [
              "<Figure size 1800x720 with 2 Axes>"
            ]
          },
          "metadata": {
            "needs_background": "light"
          }
        }
      ]
    },
    {
      "cell_type": "code",
      "source": [
        "# Checking the existence of duplicated rows\n",
        "\n",
        "skincare.duplicated().sum()"
      ],
      "metadata": {
        "colab": {
          "base_uri": "https://localhost:8080/"
        },
        "id": "JwnHPOOokS5G",
        "outputId": "177f739f-ecab-477d-9694-5bf3eb5cc49a"
      },
      "execution_count": 51,
      "outputs": [
        {
          "output_type": "execute_result",
          "data": {
            "text/plain": [
              "2"
            ]
          },
          "metadata": {},
          "execution_count": 51
        }
      ]
    },
    {
      "cell_type": "markdown",
      "source": [
        "# Data Cleaning"
      ],
      "metadata": {
        "id": "Gh9i6gTUp2XH"
      }
    },
    {
      "cell_type": "code",
      "source": [
        "# Remove duplicated rows (2 in total)\n",
        "\n",
        "skincare.drop_duplicates(inplace=True)\n",
        "\n",
        "# Replacing the missing values\"\n",
        "\n",
        "skincare[\"skintype\"].fillna(\"Dry, Oily, Combination\", inplace=True)"
      ],
      "metadata": {
        "id": "Xd90ghGGp5Y0"
      },
      "execution_count": 52,
      "outputs": []
    },
    {
      "cell_type": "code",
      "source": [
        "# Re-checking null value \n",
        "\n",
        "skincare.isnull().sum()\n",
        "\n",
        "# Re-hecking the existence of duplicated rows\n",
        "\n",
        "skincare.duplicated().sum()"
      ],
      "metadata": {
        "colab": {
          "base_uri": "https://localhost:8080/"
        },
        "id": "al3AOz2sqDxP",
        "outputId": "68128ff0-712f-429a-d416-20b1cec925dc"
      },
      "execution_count": 53,
      "outputs": [
        {
          "output_type": "execute_result",
          "data": {
            "text/plain": [
              "0"
            ]
          },
          "metadata": {},
          "execution_count": 53
        }
      ]
    },
    {
      "cell_type": "code",
      "source": [
        "skincare.head()"
      ],
      "metadata": {
        "colab": {
          "base_uri": "https://localhost:8080/",
          "height": 608
        },
        "id": "6yP2oaeNq7f_",
        "outputId": "c2cc612e-1c74-416a-a425-5adb47450fde"
      },
      "execution_count": 54,
      "outputs": [
        {
          "output_type": "execute_result",
          "data": {
            "text/html": [
              "<div>\n",
              "<style scoped>\n",
              "    .dataframe tbody tr th:only-of-type {\n",
              "        vertical-align: middle;\n",
              "    }\n",
              "\n",
              "    .dataframe tbody tr th {\n",
              "        vertical-align: top;\n",
              "    }\n",
              "\n",
              "    .dataframe thead th {\n",
              "        text-align: right;\n",
              "    }\n",
              "</style>\n",
              "<table border=\"1\" class=\"dataframe\">\n",
              "  <thead>\n",
              "    <tr style=\"text-align: right;\">\n",
              "      <th></th>\n",
              "      <th>produk-href</th>\n",
              "      <th>product_name</th>\n",
              "      <th>price</th>\n",
              "      <th>description</th>\n",
              "      <th>notable_effects</th>\n",
              "      <th>skintype</th>\n",
              "      <th>picture_src</th>\n",
              "      <th>tipe_produk</th>\n",
              "      <th>labels</th>\n",
              "    </tr>\n",
              "  </thead>\n",
              "  <tbody>\n",
              "    <tr>\n",
              "      <th>0</th>\n",
              "      <td>https://www.beautyhaul.com/product/detail/acne...</td>\n",
              "      <td>Acne Gentle Cleansing Foam</td>\n",
              "      <td>Rp 35.000</td>\n",
              "      <td>Pembersih wajah bebas minyak untuk kulit BERJE...</td>\n",
              "      <td>Acne-Free, Oil-Control, Pore-Care</td>\n",
              "      <td>Dry</td>\n",
              "      <td>https://www.beautyhaul.com/assets/uploads/prod...</td>\n",
              "      <td>facewash</td>\n",
              "      <td>3</td>\n",
              "    </tr>\n",
              "    <tr>\n",
              "      <th>1</th>\n",
              "      <td>https://www.beautyhaul.com/product/detail/aloe...</td>\n",
              "      <td>Natur Aloe Mild Cleanser</td>\n",
              "      <td>Rp 79.000</td>\n",
              "      <td>Natur Aloe Mild Cleanser dengan brush yang lem...</td>\n",
              "      <td>Pore-Care, Brightening, Anti-Aging</td>\n",
              "      <td>Dry, Oily, Sensitive</td>\n",
              "      <td>https://www.beautyhaul.com/assets/uploads/prod...</td>\n",
              "      <td>facewash</td>\n",
              "      <td>18</td>\n",
              "    </tr>\n",
              "    <tr>\n",
              "      <th>2</th>\n",
              "      <td>https://www.beautyhaul.com/product/detail/acne...</td>\n",
              "      <td>Acne Care Lab Cleanser Scrub</td>\n",
              "      <td>Rp 104.500</td>\n",
              "      <td>Acne Care Lab Acne Cleanser Scrub Beta Plus (A...</td>\n",
              "      <td>Acne-Free</td>\n",
              "      <td>Dry</td>\n",
              "      <td>https://www.beautyhaul.com/assets/uploads/prod...</td>\n",
              "      <td>facewash</td>\n",
              "      <td>0</td>\n",
              "    </tr>\n",
              "    <tr>\n",
              "      <th>3</th>\n",
              "      <td>https://www.beautyhaul.com/product/detail/brig...</td>\n",
              "      <td>Brightening Facial Cleanser</td>\n",
              "      <td>Rp 35.000</td>\n",
              "      <td>Pembersih wajah yang segar, lembut dan creamy ...</td>\n",
              "      <td>Acne-Free, Pore-Care, Brightening, Anti-Aging</td>\n",
              "      <td>Dry, Oily, Sensitive</td>\n",
              "      <td>https://www.beautyhaul.com/assets/uploads/prod...</td>\n",
              "      <td>facewash</td>\n",
              "      <td>4</td>\n",
              "    </tr>\n",
              "    <tr>\n",
              "      <th>4</th>\n",
              "      <td>https://www.beautyhaul.com/product/detail/pome...</td>\n",
              "      <td>Natur Pome Mild Cleanser</td>\n",
              "      <td>Rp 79.000</td>\n",
              "      <td>Natur Pome Mild Cleanser dengan brush yang lem...</td>\n",
              "      <td>Pore-Care, Brightening, Anti-Aging</td>\n",
              "      <td>Dry, Oily, Sensitive</td>\n",
              "      <td>https://www.beautyhaul.com/assets/uploads/prod...</td>\n",
              "      <td>facewash</td>\n",
              "      <td>18</td>\n",
              "    </tr>\n",
              "  </tbody>\n",
              "</table>\n",
              "</div>"
            ],
            "text/plain": [
              "                                         produk-href  ... labels\n",
              "0  https://www.beautyhaul.com/product/detail/acne...  ...      3\n",
              "1  https://www.beautyhaul.com/product/detail/aloe...  ...     18\n",
              "2  https://www.beautyhaul.com/product/detail/acne...  ...      0\n",
              "3  https://www.beautyhaul.com/product/detail/brig...  ...      4\n",
              "4  https://www.beautyhaul.com/product/detail/pome...  ...     18\n",
              "\n",
              "[5 rows x 9 columns]"
            ]
          },
          "metadata": {},
          "execution_count": 54
        }
      ]
    },
    {
      "cell_type": "markdown",
      "source": [
        "# Data Preparation"
      ],
      "metadata": {
        "id": "DbFNE2nXKwYZ"
      }
    },
    {
      "cell_type": "markdown",
      "source": [
        "## Encoding each skintypes"
      ],
      "metadata": {
        "id": "8wj4gtgiikmW"
      }
    },
    {
      "cell_type": "code",
      "source": [
        "# treat null values\n",
        "skincare['skintype'].fillna('NA', inplace = True)\n",
        "\n",
        "# separate all skintype into one list, considering comma + space as separators\n",
        "skintype = skincare['skintype'].str.split(', ').tolist()\n",
        "\n",
        "# flatten the list\n",
        "flat_skintype = [item for sublist in skintype for item in sublist]\n",
        "\n",
        "# convert to a set to make unique\n",
        "set_skintype = set(flat_skintype)\n",
        "\n",
        "# back to list\n",
        "unique_skintype = list(set_skintype)\n",
        "\n",
        "# create columns by each unique skintype\n",
        "skincare = skincare.reindex(skincare.columns.tolist() + unique_skintype, axis=1, fill_value=0)\n",
        "\n",
        "# for each value inside column, update the dummy\n",
        "for index, row in skincare.iterrows():\n",
        "    for val in row.skintype.split(', '):\n",
        "        if val != 'NA':\n",
        "            skincare.loc[index, val] = 1\n",
        "\n",
        "skincare.drop('skintype', axis = 1, inplace = True)    \n",
        "skincare.head()"
      ],
      "metadata": {
        "colab": {
          "base_uri": "https://localhost:8080/",
          "height": 608
        },
        "id": "yo6Lf-crkafr",
        "outputId": "266588d4-a56f-4d47-a284-13f187f2b76c"
      },
      "execution_count": 55,
      "outputs": [
        {
          "output_type": "execute_result",
          "data": {
            "text/html": [
              "<div>\n",
              "<style scoped>\n",
              "    .dataframe tbody tr th:only-of-type {\n",
              "        vertical-align: middle;\n",
              "    }\n",
              "\n",
              "    .dataframe tbody tr th {\n",
              "        vertical-align: top;\n",
              "    }\n",
              "\n",
              "    .dataframe thead th {\n",
              "        text-align: right;\n",
              "    }\n",
              "</style>\n",
              "<table border=\"1\" class=\"dataframe\">\n",
              "  <thead>\n",
              "    <tr style=\"text-align: right;\">\n",
              "      <th></th>\n",
              "      <th>produk-href</th>\n",
              "      <th>product_name</th>\n",
              "      <th>price</th>\n",
              "      <th>description</th>\n",
              "      <th>notable_effects</th>\n",
              "      <th>picture_src</th>\n",
              "      <th>tipe_produk</th>\n",
              "      <th>labels</th>\n",
              "      <th>Combination</th>\n",
              "      <th>Oily</th>\n",
              "      <th>Normal</th>\n",
              "      <th>Dry</th>\n",
              "      <th>Sensitive</th>\n",
              "    </tr>\n",
              "  </thead>\n",
              "  <tbody>\n",
              "    <tr>\n",
              "      <th>0</th>\n",
              "      <td>https://www.beautyhaul.com/product/detail/acne...</td>\n",
              "      <td>Acne Gentle Cleansing Foam</td>\n",
              "      <td>Rp 35.000</td>\n",
              "      <td>Pembersih wajah bebas minyak untuk kulit BERJE...</td>\n",
              "      <td>Acne-Free, Oil-Control, Pore-Care</td>\n",
              "      <td>https://www.beautyhaul.com/assets/uploads/prod...</td>\n",
              "      <td>facewash</td>\n",
              "      <td>3</td>\n",
              "      <td>0</td>\n",
              "      <td>0</td>\n",
              "      <td>0</td>\n",
              "      <td>1</td>\n",
              "      <td>0</td>\n",
              "    </tr>\n",
              "    <tr>\n",
              "      <th>1</th>\n",
              "      <td>https://www.beautyhaul.com/product/detail/aloe...</td>\n",
              "      <td>Natur Aloe Mild Cleanser</td>\n",
              "      <td>Rp 79.000</td>\n",
              "      <td>Natur Aloe Mild Cleanser dengan brush yang lem...</td>\n",
              "      <td>Pore-Care, Brightening, Anti-Aging</td>\n",
              "      <td>https://www.beautyhaul.com/assets/uploads/prod...</td>\n",
              "      <td>facewash</td>\n",
              "      <td>18</td>\n",
              "      <td>0</td>\n",
              "      <td>1</td>\n",
              "      <td>0</td>\n",
              "      <td>1</td>\n",
              "      <td>1</td>\n",
              "    </tr>\n",
              "    <tr>\n",
              "      <th>2</th>\n",
              "      <td>https://www.beautyhaul.com/product/detail/acne...</td>\n",
              "      <td>Acne Care Lab Cleanser Scrub</td>\n",
              "      <td>Rp 104.500</td>\n",
              "      <td>Acne Care Lab Acne Cleanser Scrub Beta Plus (A...</td>\n",
              "      <td>Acne-Free</td>\n",
              "      <td>https://www.beautyhaul.com/assets/uploads/prod...</td>\n",
              "      <td>facewash</td>\n",
              "      <td>0</td>\n",
              "      <td>0</td>\n",
              "      <td>0</td>\n",
              "      <td>0</td>\n",
              "      <td>1</td>\n",
              "      <td>0</td>\n",
              "    </tr>\n",
              "    <tr>\n",
              "      <th>3</th>\n",
              "      <td>https://www.beautyhaul.com/product/detail/brig...</td>\n",
              "      <td>Brightening Facial Cleanser</td>\n",
              "      <td>Rp 35.000</td>\n",
              "      <td>Pembersih wajah yang segar, lembut dan creamy ...</td>\n",
              "      <td>Acne-Free, Pore-Care, Brightening, Anti-Aging</td>\n",
              "      <td>https://www.beautyhaul.com/assets/uploads/prod...</td>\n",
              "      <td>facewash</td>\n",
              "      <td>4</td>\n",
              "      <td>0</td>\n",
              "      <td>1</td>\n",
              "      <td>0</td>\n",
              "      <td>1</td>\n",
              "      <td>1</td>\n",
              "    </tr>\n",
              "    <tr>\n",
              "      <th>4</th>\n",
              "      <td>https://www.beautyhaul.com/product/detail/pome...</td>\n",
              "      <td>Natur Pome Mild Cleanser</td>\n",
              "      <td>Rp 79.000</td>\n",
              "      <td>Natur Pome Mild Cleanser dengan brush yang lem...</td>\n",
              "      <td>Pore-Care, Brightening, Anti-Aging</td>\n",
              "      <td>https://www.beautyhaul.com/assets/uploads/prod...</td>\n",
              "      <td>facewash</td>\n",
              "      <td>18</td>\n",
              "      <td>0</td>\n",
              "      <td>1</td>\n",
              "      <td>0</td>\n",
              "      <td>1</td>\n",
              "      <td>1</td>\n",
              "    </tr>\n",
              "  </tbody>\n",
              "</table>\n",
              "</div>"
            ],
            "text/plain": [
              "                                         produk-href  ... Sensitive\n",
              "0  https://www.beautyhaul.com/product/detail/acne...  ...         0\n",
              "1  https://www.beautyhaul.com/product/detail/aloe...  ...         1\n",
              "2  https://www.beautyhaul.com/product/detail/acne...  ...         0\n",
              "3  https://www.beautyhaul.com/product/detail/brig...  ...         1\n",
              "4  https://www.beautyhaul.com/product/detail/pome...  ...         1\n",
              "\n",
              "[5 rows x 13 columns]"
            ]
          },
          "metadata": {},
          "execution_count": 55
        }
      ]
    },
    {
      "cell_type": "markdown",
      "source": [
        "# Modelling"
      ],
      "metadata": {
        "id": "5Inv5T4mQEIu"
      }
    },
    {
      "cell_type": "markdown",
      "source": [
        "## Applying NLP concept"
      ],
      "metadata": {
        "id": "uLe7SQNC4aBy"
      }
    },
    {
      "cell_type": "markdown",
      "source": [
        "The map we’re making is the plot with an optional choice so that the users can get a more detailed result. There are going to be two kinds of options. One for the categories of product type such as moisturizer and sunscreen. The other for the skin types of users such as dry and oily. For make it clear, let’s focus on an option for “moisturizers for dry skin type” first and then apply the same process to other options later."
      ],
      "metadata": {
        "id": "C9i0szM84HkB"
      }
    },
    {
      "cell_type": "code",
      "source": [
        "# filtering the data \n",
        "df = skincare[skincare['tipe_produk'] == 'moisturizer'][skincare['Dry'] == 1]\n",
        "df = df.reset_index()\n",
        "df.shape # -> 108"
      ],
      "metadata": {
        "id": "CG4F-Pq98PBq",
        "colab": {
          "base_uri": "https://localhost:8080/"
        },
        "outputId": "f790e202-6778-417c-e690-895ca19236a7"
      },
      "execution_count": 56,
      "outputs": [
        {
          "output_type": "stream",
          "name": "stderr",
          "text": [
            "/usr/local/lib/python3.7/dist-packages/ipykernel_launcher.py:2: UserWarning:\n",
            "\n",
            "Boolean Series key will be reindexed to match DataFrame index.\n",
            "\n"
          ]
        },
        {
          "output_type": "execute_result",
          "data": {
            "text/plain": [
              "(108, 14)"
            ]
          },
          "metadata": {},
          "execution_count": 56
        }
      ]
    },
    {
      "cell_type": "markdown",
      "source": [
        "## Tokenizing the list of notable_effects"
      ],
      "metadata": {
        "id": "4QcElBeVKlHP"
      }
    },
    {
      "cell_type": "markdown",
      "source": [
        "I initialized an empty dictionary word_index_map which will be filled with words and the index of each word. The outcome will be like {“notable_effects” : number}. I also made an empty list as index_word_map. This will be exactly opposite with the dictionary. So we will be able to find a word, an ingredient in this case, by its index. corpus is a bag of words that will be filled with the tokenized words."
      ],
      "metadata": {
        "id": "XEmT3-G_GEF5"
      }
    },
    {
      "cell_type": "code",
      "source": [
        "# Initialize dictionary, list, and initial index\n",
        "word_index_map = {}   \n",
        "index_word_map = []\n",
        "current_index = 0\n",
        "corpus = []\n",
        "\n",
        "# For loop for tokenization\n",
        "for i in range(len(df)):\n",
        "  text = df['notable_effects'][i]\n",
        "  text = text.lower()\n",
        "  tokens = text.split(', ')\n",
        "  corpus.append(tokens)\n",
        "  for token in tokens:\n",
        "    if token not in word_index_map:\n",
        "      word_index_map[token] = current_index\n",
        "      current_index += 1\n",
        "      index_word_map.append(token)\n",
        "            \n",
        "# Check the result \n",
        "print(index_word_map[0])\n",
        "print(word_index_map['hydrating'])"
      ],
      "metadata": {
        "colab": {
          "base_uri": "https://localhost:8080/"
        },
        "id": "pCMtNTktKoDr",
        "outputId": "f5a417d3-c89c-4a45-84d6-14fc23169647"
      },
      "execution_count": 57,
      "outputs": [
        {
          "output_type": "stream",
          "name": "stdout",
          "text": [
            "hydrating\n",
            "0\n"
          ]
        }
      ]
    },
    {
      "cell_type": "markdown",
      "source": [
        "## Making a document-term matrix"
      ],
      "metadata": {
        "id": "z_6kAlivHemO"
      }
    },
    {
      "cell_type": "code",
      "source": [
        "# Get the number of corpus and word_index_map \n",
        "M = len(corpus)             # number of documents \n",
        "N = len(word_index_map)     # The number of tokens/notable_effect\n",
        "\n",
        "# Initialize a matrix of zeros\n",
        "A = np.zeros((M, N))"
      ],
      "metadata": {
        "id": "BbBj5MyzLZCv"
      },
      "execution_count": 58,
      "outputs": []
    },
    {
      "cell_type": "markdown",
      "source": [
        "## One-hot encoding"
      ],
      "metadata": {
        "id": "3DdQEMcNIlzA"
      }
    },
    {
      "cell_type": "code",
      "source": [
        "# Define the one-hot encoding function\n",
        "def encoding(tokens):\n",
        "  # initialize empty array\n",
        "  x = np.zeros(len(word_index_map))    \n",
        "  for token in tokens:\n",
        "    # Get the index for each word_index_map\n",
        "    i = word_index_map[token]\n",
        "    # Put 1 at the corresponding indices\n",
        "    x[i] = 1\n",
        "  return x"
      ],
      "metadata": {
        "id": "BMaEaRn6Lkps"
      },
      "execution_count": 59,
      "outputs": []
    },
    {
      "cell_type": "code",
      "source": [
        "# Make a document-term matrix\n",
        "i = 0\n",
        "for tokens in corpus:\n",
        "  A[i, :] = encoding(tokens)\n",
        "  i += 1"
      ],
      "metadata": {
        "id": "Caw9NgY9MFgy"
      },
      "execution_count": 60,
      "outputs": []
    },
    {
      "cell_type": "code",
      "source": [
        "df.shape"
      ],
      "metadata": {
        "colab": {
          "base_uri": "https://localhost:8080/"
        },
        "id": "e_LT1xMEKHHV",
        "outputId": "4d668146-6d96-4654-bb16-11a93a213f2a"
      },
      "execution_count": 61,
      "outputs": [
        {
          "output_type": "execute_result",
          "data": {
            "text/plain": [
              "(108, 14)"
            ]
          },
          "metadata": {},
          "execution_count": 61
        }
      ]
    },
    {
      "cell_type": "markdown",
      "source": [
        "## Dimension reduction with SVD"
      ],
      "metadata": {
        "id": "Cw979-USsk-a"
      }
    },
    {
      "cell_type": "code",
      "source": [
        "# Dimension reduction with SVD\n",
        "svd = TruncatedSVD()\n",
        "svd_A = svd.fit_transform(A)"
      ],
      "metadata": {
        "id": "AqYo5p3XQQNU"
      },
      "execution_count": 62,
      "outputs": []
    },
    {
      "cell_type": "code",
      "source": [
        "# Making the result as a data frame and combine all together\n",
        "df_svd_A = pd.DataFrame(data = svd_A, columns = ['SVD1', 'SVD2'])\n",
        "skincare_svd = pd.concat([df.iloc[:, 0:15], df_svd_A], axis = 1)\n",
        "skincare_svd.head()"
      ],
      "metadata": {
        "colab": {
          "base_uri": "https://localhost:8080/",
          "height": 556
        },
        "id": "6z71o-XTsvtP",
        "outputId": "4ca68d38-ddc1-49e5-dedc-09b7019cdc00"
      },
      "execution_count": 63,
      "outputs": [
        {
          "output_type": "execute_result",
          "data": {
            "text/html": [
              "<div>\n",
              "<style scoped>\n",
              "    .dataframe tbody tr th:only-of-type {\n",
              "        vertical-align: middle;\n",
              "    }\n",
              "\n",
              "    .dataframe tbody tr th {\n",
              "        vertical-align: top;\n",
              "    }\n",
              "\n",
              "    .dataframe thead th {\n",
              "        text-align: right;\n",
              "    }\n",
              "</style>\n",
              "<table border=\"1\" class=\"dataframe\">\n",
              "  <thead>\n",
              "    <tr style=\"text-align: right;\">\n",
              "      <th></th>\n",
              "      <th>index</th>\n",
              "      <th>produk-href</th>\n",
              "      <th>product_name</th>\n",
              "      <th>price</th>\n",
              "      <th>description</th>\n",
              "      <th>notable_effects</th>\n",
              "      <th>picture_src</th>\n",
              "      <th>tipe_produk</th>\n",
              "      <th>labels</th>\n",
              "      <th>Combination</th>\n",
              "      <th>Oily</th>\n",
              "      <th>Normal</th>\n",
              "      <th>Dry</th>\n",
              "      <th>Sensitive</th>\n",
              "      <th>SVD1</th>\n",
              "      <th>SVD2</th>\n",
              "    </tr>\n",
              "  </thead>\n",
              "  <tbody>\n",
              "    <tr>\n",
              "      <th>0</th>\n",
              "      <td>638</td>\n",
              "      <td>https://www.beautyhaul.com/product/detail/dew-...</td>\n",
              "      <td>Noola Dew Moisturizer</td>\n",
              "      <td>Rp 129.000</td>\n",
              "      <td>* Teman baik kulit dehidrasi, kering atau irit...</td>\n",
              "      <td>Hydrating, Soothing</td>\n",
              "      <td>https://www.beautyhaul.com/assets/uploads/prod...</td>\n",
              "      <td>moisturizer</td>\n",
              "      <td>13</td>\n",
              "      <td>0</td>\n",
              "      <td>0</td>\n",
              "      <td>0</td>\n",
              "      <td>1</td>\n",
              "      <td>1</td>\n",
              "      <td>0.638495</td>\n",
              "      <td>-0.289465</td>\n",
              "    </tr>\n",
              "    <tr>\n",
              "      <th>1</th>\n",
              "      <td>642</td>\n",
              "      <td>https://www.beautyhaul.com/product/detail/brig...</td>\n",
              "      <td>SCARLETT BRIGHTENING Brightly Ever After Day C...</td>\n",
              "      <td>Rp 82.500</td>\n",
              "      <td>Didalam Brightly Ever After Day Cream terdapat...</td>\n",
              "      <td>Brightening, Anti-Aging, UV-Protection</td>\n",
              "      <td>https://www.beautyhaul.com/assets/uploads/prod...</td>\n",
              "      <td>moisturizer</td>\n",
              "      <td>9</td>\n",
              "      <td>0</td>\n",
              "      <td>0</td>\n",
              "      <td>0</td>\n",
              "      <td>1</td>\n",
              "      <td>0</td>\n",
              "      <td>0.652187</td>\n",
              "      <td>1.329960</td>\n",
              "    </tr>\n",
              "    <tr>\n",
              "      <th>2</th>\n",
              "      <td>646</td>\n",
              "      <td>https://www.beautyhaul.com/product/detail/some...</td>\n",
              "      <td>SOMETHINC Ceramic Skin Saviour Moisturizer Gel</td>\n",
              "      <td>Rp 299.000</td>\n",
              "      <td>Delivers 18hr Moisture Lock Ceramic Skin, Plum...</td>\n",
              "      <td>Pore-Care, Brightening, Anti-Aging</td>\n",
              "      <td>https://www.beautyhaul.com/assets/uploads/prod...</td>\n",
              "      <td>moisturizer</td>\n",
              "      <td>18</td>\n",
              "      <td>0</td>\n",
              "      <td>0</td>\n",
              "      <td>0</td>\n",
              "      <td>1</td>\n",
              "      <td>0</td>\n",
              "      <td>0.642966</td>\n",
              "      <td>1.453984</td>\n",
              "    </tr>\n",
              "    <tr>\n",
              "      <th>3</th>\n",
              "      <td>651</td>\n",
              "      <td>https://www.beautyhaul.com/product/detail/all-...</td>\n",
              "      <td>HALE All Rounder</td>\n",
              "      <td>Rp 129.000</td>\n",
              "      <td>A gel-cream moisturizer that provides your ski...</td>\n",
              "      <td>Acne-Free, Pore-Care, Brightening, Anti-Aging</td>\n",
              "      <td>https://www.beautyhaul.com/assets/uploads/prod...</td>\n",
              "      <td>moisturizer</td>\n",
              "      <td>4</td>\n",
              "      <td>0</td>\n",
              "      <td>0</td>\n",
              "      <td>0</td>\n",
              "      <td>1</td>\n",
              "      <td>0</td>\n",
              "      <td>0.668005</td>\n",
              "      <td>1.530992</td>\n",
              "    </tr>\n",
              "    <tr>\n",
              "      <th>4</th>\n",
              "      <td>652</td>\n",
              "      <td>https://www.beautyhaul.com/product/detail/goku...</td>\n",
              "      <td>HADA LABO Gokujyun Ultimate Moisturizing Lotio...</td>\n",
              "      <td>Rp 48.000</td>\n",
              "      <td>Mengandung 3 jenis Hyaluronic Acid untuk memba...</td>\n",
              "      <td>Moisturizing</td>\n",
              "      <td>https://www.beautyhaul.com/assets/uploads/prod...</td>\n",
              "      <td>moisturizer</td>\n",
              "      <td>14</td>\n",
              "      <td>0</td>\n",
              "      <td>0</td>\n",
              "      <td>0</td>\n",
              "      <td>1</td>\n",
              "      <td>0</td>\n",
              "      <td>0.750886</td>\n",
              "      <td>-0.318304</td>\n",
              "    </tr>\n",
              "  </tbody>\n",
              "</table>\n",
              "</div>"
            ],
            "text/plain": [
              "   index                                        produk-href  ...      SVD1      SVD2\n",
              "0    638  https://www.beautyhaul.com/product/detail/dew-...  ...  0.638495 -0.289465\n",
              "1    642  https://www.beautyhaul.com/product/detail/brig...  ...  0.652187  1.329960\n",
              "2    646  https://www.beautyhaul.com/product/detail/some...  ...  0.642966  1.453984\n",
              "3    651  https://www.beautyhaul.com/product/detail/all-...  ...  0.668005  1.530992\n",
              "4    652  https://www.beautyhaul.com/product/detail/goku...  ...  0.750886 -0.318304\n",
              "\n",
              "[5 rows x 16 columns]"
            ]
          },
          "metadata": {},
          "execution_count": 63
        }
      ]
    },
    {
      "cell_type": "markdown",
      "source": [
        "## Comparing Items with Cosine Similarity"
      ],
      "metadata": {
        "id": "-T_xqoEQgPvu"
      }
    },
    {
      "cell_type": "code",
      "source": [
        "df_2 = skincare_svd[skincare_svd.tipe_produk == 'Moisturizer_Dry'].reset_index()\n",
        "myItem = df_2[df_2.notable_effects.str.contains('hydrating')]"
      ],
      "metadata": {
        "id": "f2vmmxNEuaBP"
      },
      "execution_count": 84,
      "outputs": []
    },
    {
      "cell_type": "code",
      "source": [
        "myItem.head()"
      ],
      "metadata": {
        "colab": {
          "base_uri": "https://localhost:8080/",
          "height": 87
        },
        "id": "75NtOrFh62uF",
        "outputId": "07aa3598-125e-49c5-df49-ce1edace24d9"
      },
      "execution_count": 85,
      "outputs": [
        {
          "output_type": "execute_result",
          "data": {
            "text/html": [
              "<div>\n",
              "<style scoped>\n",
              "    .dataframe tbody tr th:only-of-type {\n",
              "        vertical-align: middle;\n",
              "    }\n",
              "\n",
              "    .dataframe tbody tr th {\n",
              "        vertical-align: top;\n",
              "    }\n",
              "\n",
              "    .dataframe thead th {\n",
              "        text-align: right;\n",
              "    }\n",
              "</style>\n",
              "<table border=\"1\" class=\"dataframe\">\n",
              "  <thead>\n",
              "    <tr style=\"text-align: right;\">\n",
              "      <th></th>\n",
              "      <th>level_0</th>\n",
              "      <th>index</th>\n",
              "      <th>produk-href</th>\n",
              "      <th>product_name</th>\n",
              "      <th>price</th>\n",
              "      <th>description</th>\n",
              "      <th>notable_effects</th>\n",
              "      <th>picture_src</th>\n",
              "      <th>tipe_produk</th>\n",
              "      <th>labels</th>\n",
              "      <th>Combination</th>\n",
              "      <th>Oily</th>\n",
              "      <th>Normal</th>\n",
              "      <th>Dry</th>\n",
              "      <th>Sensitive</th>\n",
              "      <th>SVD1</th>\n",
              "      <th>SVD2</th>\n",
              "    </tr>\n",
              "  </thead>\n",
              "  <tbody>\n",
              "  </tbody>\n",
              "</table>\n",
              "</div>"
            ],
            "text/plain": [
              "Empty DataFrame\n",
              "Columns: [level_0, index, produk-href, product_name, price, description, notable_effects, picture_src, tipe_produk, labels, Combination, Oily, Normal, Dry, Sensitive, SVD1, SVD2]\n",
              "Index: []"
            ]
          },
          "metadata": {},
          "execution_count": 85
        }
      ]
    },
    {
      "cell_type": "code",
      "source": [
        "# initiating the column\n",
        "df_2['dist'] = 0.0"
      ],
      "metadata": {
        "id": "mYUT3756y2Yf"
      },
      "execution_count": 77,
      "outputs": []
    },
    {
      "cell_type": "code",
      "source": [
        "# getting the array for myItem\n",
        "X = myItem.SVD1.values\n",
        "Y = myItem.SVD2.values\n",
        "Point_1 = np.array([X, Y]).reshape(1, -1)"
      ],
      "metadata": {
        "id": "_KSNrtyfy48z"
      },
      "execution_count": 78,
      "outputs": []
    },
    {
      "cell_type": "code",
      "source": [
        "# cosine similarities with other items\n",
        "for i in range(len(df_2)):\n",
        "    P2 = np.array([df_2['SVD1'][i], df_2['SVD2'][i]]).reshape(-1, 1)\n",
        "    df_2.dist[i] = (P1 * P2).sum() / (np.sqrt(np.sum(P1))*np.sqrt(np.sum(P2)))"
      ],
      "metadata": {
        "id": "AcxwteVf342E"
      },
      "execution_count": 79,
      "outputs": []
    },
    {
      "cell_type": "code",
      "source": [
        "# sorting by the similarity\n",
        "df_2 = df_2.sort_values('dist')\n",
        "df_2[['product_name', 'dist']].head()"
      ],
      "metadata": {
        "colab": {
          "base_uri": "https://localhost:8080/",
          "height": 50
        },
        "id": "WG4N6uB63-53",
        "outputId": "afef944e-afb4-4a6d-d0f6-8b55f02ca1b4"
      },
      "execution_count": 80,
      "outputs": [
        {
          "output_type": "execute_result",
          "data": {
            "text/html": [
              "<div>\n",
              "<style scoped>\n",
              "    .dataframe tbody tr th:only-of-type {\n",
              "        vertical-align: middle;\n",
              "    }\n",
              "\n",
              "    .dataframe tbody tr th {\n",
              "        vertical-align: top;\n",
              "    }\n",
              "\n",
              "    .dataframe thead th {\n",
              "        text-align: right;\n",
              "    }\n",
              "</style>\n",
              "<table border=\"1\" class=\"dataframe\">\n",
              "  <thead>\n",
              "    <tr style=\"text-align: right;\">\n",
              "      <th></th>\n",
              "      <th>product_name</th>\n",
              "      <th>dist</th>\n",
              "    </tr>\n",
              "  </thead>\n",
              "  <tbody>\n",
              "  </tbody>\n",
              "</table>\n",
              "</div>"
            ],
            "text/plain": [
              "Empty DataFrame\n",
              "Columns: [product_name, dist]\n",
              "Index: []"
            ]
          },
          "metadata": {},
          "execution_count": 80
        }
      ]
    }
  ]
}